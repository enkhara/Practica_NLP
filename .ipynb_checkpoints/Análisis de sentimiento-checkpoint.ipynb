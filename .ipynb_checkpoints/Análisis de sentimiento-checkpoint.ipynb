{
 "cells": [
  {
   "cell_type": "markdown",
   "metadata": {},
   "source": [
    "# Introducción \n"
   ]
  },
  {
   "cell_type": "markdown",
   "metadata": {},
   "source": [
    "En NLP, el análisis de sentimiento es el proceso mediante el cual, se busca detectar la subjetividad, polaridad e intensidad en un fragmento de texto.\n",
    "\n",
    " - Subjetividad: sentimientos expresados\n",
    " - Polaridad: deterctar si es un sentimiento positivo o negativo\n",
    " - Intensidad: fuerza del sentimiento u opinión\n"
   ]
  },
  {
   "cell_type": "markdown",
   "metadata": {},
   "source": [
    "Para realizar el análisis de sentimiento, abordaremos cuatro caminos diferentes, para poder obtener diferentes resultados y ver cual funciona mejor.\n",
    "\n",
    "1. Clasificación binaria: obtendremos 2.500 reviews positivas (5 y 4 estrellas) y 2.500 reviews negativas (1 y 2 estrellas) de cada dataset\n",
    "2. Clasificación binaria con preprocesado\n",
    "3. Clasificación multiclase: obtendremos 2.000 reviews positivas(5 y 4 estrellas), 1.000 reviews neutrales (3 estrellas) y 2.000 reviews negativas (1 y 2 estrellas) de cada dataset\n",
    "4. Clasificación multiclase con preprocesado."
   ]
  },
  {
   "cell_type": "markdown",
   "metadata": {},
   "source": [
    "# Cargamos las librerías necesarias"
   ]
  },
  {
   "cell_type": "code",
   "execution_count": 1,
   "metadata": {},
   "outputs": [],
   "source": [
    "import sys\n",
    "sys.path.append('../..')\n",
    "\n",
    "\n",
    "import random\n",
    "import numpy as np\n",
    "import pandas as pd\n",
    "\n",
    "from sklearn.model_selection import train_test_split\n",
    "from sklearn.pipeline import Pipeline\n",
    "from sklearn.feature_extraction.text import CountVectorizer, TfidfVectorizer\n",
    "from sklearn.feature_selection import chi2\n",
    "from sklearn.linear_model import LogisticRegression\n",
    "from sklearn.metrics import accuracy_score, confusion_matrix, classification_report, roc_curve\n",
    "\n",
    "import matplotlib.pyplot as plt\n",
    "import seaborn as sns"
   ]
  },
  {
   "cell_type": "markdown",
   "metadata": {},
   "source": [
    "# Cargamos los datos\n",
    "\n",
    "Los datos están extraidos de [Reviews de Amazon](http://jmcauley.ucsd.edu/data/amazon/)\n",
    "\n",
    "\n",
    "Para análisis de sentimientos, usaremos el mismo dataset que se han utilizado para model topic.\n",
    "Pero en esta ocasión, se seleccionarán 5.000 de cada, con lo que trabajaremos con un dataset de 20.000 para esta parte de la práctica.\n",
    "El cargado de datos es común para los cuatro modos de resolución del problema."
   ]
  },
  {
   "cell_type": "code",
   "execution_count": 2,
   "metadata": {},
   "outputs": [],
   "source": [
    "import json\n",
    "\n",
    "#cargamos el dataset de Videogames\n",
    "dfVideogames = pd.read_json('data/Videogames.json', lines = True)\n",
    "#cargamos el dataset de Babies\n",
    "dfBaby = pd.read_json('data/Baby.json', lines = True)\n",
    "#cargamos el dataset de Health and Personal Care\n",
    "dfHealth = pd.read_json('data/Health.json', lines = True) \n",
    "#cargamos el dataset de Pets Supplies\n",
    "dfPets = pd.read_json('data/Pets.json', lines = True)"
   ]
  },
  {
   "cell_type": "markdown",
   "metadata": {},
   "source": [
    "Comprobamos que se hayan cargado bien los datos."
   ]
  },
  {
   "cell_type": "code",
   "execution_count": 3,
   "metadata": {
    "scrolled": true
   },
   "outputs": [
    {
     "name": "stdout",
     "output_type": "stream",
     "text": [
      "Dataset de videojuegos\n",
      "(231780, 9)\n",
      "Dataset de bebes:\n",
      "(160792, 9)\n",
      "Dataset de suministros de mascotas:\n",
      "(157836, 9)\n",
      "Dataset de salud y cuidado personal:\n",
      "(346355, 9)\n"
     ]
    },
    {
     "data": {
      "text/html": [
       "<div>\n",
       "<style scoped>\n",
       "    .dataframe tbody tr th:only-of-type {\n",
       "        vertical-align: middle;\n",
       "    }\n",
       "\n",
       "    .dataframe tbody tr th {\n",
       "        vertical-align: top;\n",
       "    }\n",
       "\n",
       "    .dataframe thead th {\n",
       "        text-align: right;\n",
       "    }\n",
       "</style>\n",
       "<table border=\"1\" class=\"dataframe\">\n",
       "  <thead>\n",
       "    <tr style=\"text-align: right;\">\n",
       "      <th></th>\n",
       "      <th>reviewerID</th>\n",
       "      <th>asin</th>\n",
       "      <th>reviewerName</th>\n",
       "      <th>helpful</th>\n",
       "      <th>reviewText</th>\n",
       "      <th>overall</th>\n",
       "      <th>summary</th>\n",
       "      <th>unixReviewTime</th>\n",
       "      <th>reviewTime</th>\n",
       "    </tr>\n",
       "  </thead>\n",
       "  <tbody>\n",
       "    <tr>\n",
       "      <td>0</td>\n",
       "      <td>ALC5GH8CAMAI7</td>\n",
       "      <td>159985130X</td>\n",
       "      <td>AnnN</td>\n",
       "      <td>[1, 1]</td>\n",
       "      <td>This is a great little gadget to have around. ...</td>\n",
       "      <td>5</td>\n",
       "      <td>Handy little gadget</td>\n",
       "      <td>1294185600</td>\n",
       "      <td>01 5, 2011</td>\n",
       "    </tr>\n",
       "    <tr>\n",
       "      <td>1</td>\n",
       "      <td>AHKSURW85PJUE</td>\n",
       "      <td>159985130X</td>\n",
       "      <td>AZ buyer \"AZ buyer\"</td>\n",
       "      <td>[1, 1]</td>\n",
       "      <td>I would recommend this for a travel magnifier ...</td>\n",
       "      <td>4</td>\n",
       "      <td>Small &amp; may need to encourage battery</td>\n",
       "      <td>1329523200</td>\n",
       "      <td>02 18, 2012</td>\n",
       "    </tr>\n",
       "    <tr>\n",
       "      <td>2</td>\n",
       "      <td>A38RMU1Y5TDP9</td>\n",
       "      <td>159985130X</td>\n",
       "      <td>Bob Tobias \"Robert Tobias\"</td>\n",
       "      <td>[75, 77]</td>\n",
       "      <td>What I liked was the quality of the lens and t...</td>\n",
       "      <td>4</td>\n",
       "      <td>Very good but not great</td>\n",
       "      <td>1275955200</td>\n",
       "      <td>06 8, 2010</td>\n",
       "    </tr>\n",
       "    <tr>\n",
       "      <td>3</td>\n",
       "      <td>A1XZUG7DFXXOS4</td>\n",
       "      <td>159985130X</td>\n",
       "      <td>Cat lover</td>\n",
       "      <td>[56, 60]</td>\n",
       "      <td>Love the Great point light pocket magnifier!  ...</td>\n",
       "      <td>4</td>\n",
       "      <td>great addition to your purse</td>\n",
       "      <td>1202428800</td>\n",
       "      <td>02 8, 2008</td>\n",
       "    </tr>\n",
       "    <tr>\n",
       "      <td>4</td>\n",
       "      <td>A1MS3M7M7AM13X</td>\n",
       "      <td>159985130X</td>\n",
       "      <td>Cricketoes</td>\n",
       "      <td>[1, 1]</td>\n",
       "      <td>This is very nice. You pull out on the magnifi...</td>\n",
       "      <td>5</td>\n",
       "      <td>Very nice and convenient.</td>\n",
       "      <td>1313452800</td>\n",
       "      <td>08 16, 2011</td>\n",
       "    </tr>\n",
       "  </tbody>\n",
       "</table>\n",
       "</div>"
      ],
      "text/plain": [
       "       reviewerID        asin                reviewerName   helpful  \\\n",
       "0   ALC5GH8CAMAI7  159985130X                        AnnN    [1, 1]   \n",
       "1   AHKSURW85PJUE  159985130X         AZ buyer \"AZ buyer\"    [1, 1]   \n",
       "2   A38RMU1Y5TDP9  159985130X  Bob Tobias \"Robert Tobias\"  [75, 77]   \n",
       "3  A1XZUG7DFXXOS4  159985130X                   Cat lover  [56, 60]   \n",
       "4  A1MS3M7M7AM13X  159985130X                  Cricketoes    [1, 1]   \n",
       "\n",
       "                                          reviewText  overall  \\\n",
       "0  This is a great little gadget to have around. ...        5   \n",
       "1  I would recommend this for a travel magnifier ...        4   \n",
       "2  What I liked was the quality of the lens and t...        4   \n",
       "3  Love the Great point light pocket magnifier!  ...        4   \n",
       "4  This is very nice. You pull out on the magnifi...        5   \n",
       "\n",
       "                                 summary  unixReviewTime   reviewTime  \n",
       "0                    Handy little gadget      1294185600   01 5, 2011  \n",
       "1  Small & may need to encourage battery      1329523200  02 18, 2012  \n",
       "2                Very good but not great      1275955200   06 8, 2010  \n",
       "3           great addition to your purse      1202428800   02 8, 2008  \n",
       "4              Very nice and convenient.      1313452800  08 16, 2011  "
      ]
     },
     "execution_count": 3,
     "metadata": {},
     "output_type": "execute_result"
    }
   ],
   "source": [
    "print('Dataset de videojuegos')\n",
    "print(dfVideogames.shape)\n",
    "\n",
    "\n",
    "print('Dataset de bebes:')\n",
    "print(dfBaby.shape)\n",
    "\n",
    "\n",
    "print('Dataset de suministros de mascotas:')\n",
    "print(dfPets.shape)\n",
    "\n",
    "\n",
    "print('Dataset de salud y cuidado personal:')\n",
    "print(dfHealth.shape)\n",
    "dfHealth.head()"
   ]
  },
  {
   "cell_type": "markdown",
   "metadata": {},
   "source": [
    "# Clasificación binaria"
   ]
  },
  {
   "cell_type": "markdown",
   "metadata": {},
   "source": [
    "### Creamos nuestro dataset para la clasificación binaria"
   ]
  },
  {
   "cell_type": "markdown",
   "metadata": {},
   "source": [
    "Primero de todo, vamos a quedarnos únicamente con las variables 'reviewText' y 'overall', y eliminaremos los valores NA's\n"
   ]
  },
  {
   "cell_type": "code",
   "execution_count": 4,
   "metadata": {},
   "outputs": [
    {
     "name": "stdout",
     "output_type": "stream",
     "text": [
      "(231780, 2)\n",
      "(160792, 2)\n",
      "(157836, 2)\n",
      "(346355, 2)\n"
     ]
    }
   ],
   "source": [
    "dfVideogames = dfVideogames[['reviewText', 'overall']]\n",
    "dfVideogames.dropna(inplace = True)\n",
    "print(dfVideogames.shape)\n",
    "dfBaby = dfBaby[['reviewText', 'overall']]\n",
    "dfBaby.dropna(inplace = True)\n",
    "print(dfBaby.shape)\n",
    "dfPets = dfPets[['reviewText', 'overall']]\n",
    "dfPets.dropna(inplace = True)\n",
    "print(dfPets.shape)\n",
    "dfHealth = dfHealth[['reviewText', 'overall']]\n",
    "dfHealth.dropna(inplace = True)\n",
    "print(dfHealth.shape)"
   ]
  },
  {
   "cell_type": "markdown",
   "metadata": {},
   "source": [
    "Ahora que ya tenemos preparados los datset, vamos a confeccionar el dataset con el que vamos a evaluar nuestro modelo (2.500 positivas + 2.500 negativas) * dataset. "
   ]
  },
  {
   "cell_type": "code",
   "execution_count": 5,
   "metadata": {},
   "outputs": [
    {
     "data": {
      "text/plain": [
       "5    120185\n",
       "4     54804\n",
       "3     28275\n",
       "1     14853\n",
       "2     13663\n",
       "Name: overall, dtype: int64"
      ]
     },
     "execution_count": 5,
     "metadata": {},
     "output_type": "execute_result"
    }
   ],
   "source": [
    "dfVideogames['overall'].value_counts()"
   ]
  },
  {
   "cell_type": "code",
   "execution_count": 6,
   "metadata": {},
   "outputs": [],
   "source": [
    "dfVideogamesPositive= dfVideogames[dfVideogames['overall'] >= 4]\n",
    "dfVideogamesNegative= dfVideogames[dfVideogames['overall'] <= 2]\n",
    "\n",
    "dfBabyPositive = dfBaby[dfBaby['overall'] >= 4] \n",
    "dfBabyNegative = dfBaby[dfBaby['overall'] <= 2]\n",
    "\n",
    "dfPetsPositive = dfPets[dfPets['overall'] >= 4] \n",
    "dfPetsNegative = dfPets[dfPets['overall'] <= 2]\n",
    "\n",
    "dfHealthPositive = dfHealth[dfHealth['overall'] >= 4]\n",
    "dfHealthNegative = dfHealth[dfHealth['overall'] <= 2]\n",
    "\n",
    "#dfVgB = dfVideogames[dfVideogames['overall'] != 3]\n",
    "#dfBB = dfBaby[dfBaby['overall'] != 3]\n",
    "#dfPB = dfPets[dfPets['overall'] != 3]\n",
    "#dfHB = dfHealth[dfHealth['overall'] != 3]"
   ]
  },
  {
   "cell_type": "code",
   "execution_count": 7,
   "metadata": {},
   "outputs": [],
   "source": [
    "df = pd.concat([dfVideogamesPositive[:2500], dfVideogamesNegative[:2500], \n",
    "                dfBabyPositive[:2500], dfBabyNegative[:2500], \n",
    "                dfHealthPositive[:2500], dfHealthNegative[:2500],\n",
    "                dfPetsPositive[:2500], dfPetsNegative[:2500]], axis = 0, ignore_index = True)"
   ]
  },
  {
   "cell_type": "code",
   "execution_count": 8,
   "metadata": {},
   "outputs": [
    {
     "name": "stdout",
     "output_type": "stream",
     "text": [
      "(20000, 2)\n"
     ]
    },
    {
     "data": {
      "text/html": [
       "<div>\n",
       "<style scoped>\n",
       "    .dataframe tbody tr th:only-of-type {\n",
       "        vertical-align: middle;\n",
       "    }\n",
       "\n",
       "    .dataframe tbody tr th {\n",
       "        vertical-align: top;\n",
       "    }\n",
       "\n",
       "    .dataframe thead th {\n",
       "        text-align: right;\n",
       "    }\n",
       "</style>\n",
       "<table border=\"1\" class=\"dataframe\">\n",
       "  <thead>\n",
       "    <tr style=\"text-align: right;\">\n",
       "      <th></th>\n",
       "      <th>reviewText</th>\n",
       "      <th>overall</th>\n",
       "    </tr>\n",
       "  </thead>\n",
       "  <tbody>\n",
       "    <tr>\n",
       "      <td>0</td>\n",
       "      <td>If you like rally cars get this game you will ...</td>\n",
       "      <td>4</td>\n",
       "    </tr>\n",
       "    <tr>\n",
       "      <td>1</td>\n",
       "      <td>I had Dirt 2 on Xbox 360 and it was an okay ga...</td>\n",
       "      <td>4</td>\n",
       "    </tr>\n",
       "    <tr>\n",
       "      <td>2</td>\n",
       "      <td>Overall this is a well done racing game, with ...</td>\n",
       "      <td>4</td>\n",
       "    </tr>\n",
       "    <tr>\n",
       "      <td>3</td>\n",
       "      <td>Loved playing Dirt 2 and I thought the graphic...</td>\n",
       "      <td>5</td>\n",
       "    </tr>\n",
       "    <tr>\n",
       "      <td>4</td>\n",
       "      <td>I initially gave this one star because it was ...</td>\n",
       "      <td>4</td>\n",
       "    </tr>\n",
       "  </tbody>\n",
       "</table>\n",
       "</div>"
      ],
      "text/plain": [
       "                                          reviewText  overall\n",
       "0  If you like rally cars get this game you will ...        4\n",
       "1  I had Dirt 2 on Xbox 360 and it was an okay ga...        4\n",
       "2  Overall this is a well done racing game, with ...        4\n",
       "3  Loved playing Dirt 2 and I thought the graphic...        5\n",
       "4  I initially gave this one star because it was ...        4"
      ]
     },
     "execution_count": 8,
     "metadata": {},
     "output_type": "execute_result"
    }
   ],
   "source": [
    "print(df.shape)\n",
    "df.head()\n"
   ]
  },
  {
   "cell_type": "markdown",
   "metadata": {},
   "source": [
    "Ordenamos nuestro data por la variable 'overall'"
   ]
  },
  {
   "cell_type": "code",
   "execution_count": 9,
   "metadata": {},
   "outputs": [
    {
     "data": {
      "text/html": [
       "<div>\n",
       "<style scoped>\n",
       "    .dataframe tbody tr th:only-of-type {\n",
       "        vertical-align: middle;\n",
       "    }\n",
       "\n",
       "    .dataframe tbody tr th {\n",
       "        vertical-align: top;\n",
       "    }\n",
       "\n",
       "    .dataframe thead th {\n",
       "        text-align: right;\n",
       "    }\n",
       "</style>\n",
       "<table border=\"1\" class=\"dataframe\">\n",
       "  <thead>\n",
       "    <tr style=\"text-align: right;\">\n",
       "      <th></th>\n",
       "      <th>reviewText</th>\n",
       "      <th>overall</th>\n",
       "    </tr>\n",
       "  </thead>\n",
       "  <tbody>\n",
       "    <tr>\n",
       "      <td>9999</td>\n",
       "      <td>We are starting to potty train our 18 month ol...</td>\n",
       "      <td>1</td>\n",
       "    </tr>\n",
       "    <tr>\n",
       "      <td>4600</td>\n",
       "      <td>... If you want to make your kid cry this is a...</td>\n",
       "      <td>1</td>\n",
       "    </tr>\n",
       "    <tr>\n",
       "      <td>4599</td>\n",
       "      <td>Almost every night, I sit here and wonder why ...</td>\n",
       "      <td>1</td>\n",
       "    </tr>\n",
       "    <tr>\n",
       "      <td>4598</td>\n",
       "      <td>This game requires that you insert software an...</td>\n",
       "      <td>1</td>\n",
       "    </tr>\n",
       "    <tr>\n",
       "      <td>4597</td>\n",
       "      <td>... This memory card holds twice as much space...</td>\n",
       "      <td>1</td>\n",
       "    </tr>\n",
       "    <tr>\n",
       "      <td>...</td>\n",
       "      <td>...</td>\n",
       "      <td>...</td>\n",
       "    </tr>\n",
       "    <tr>\n",
       "      <td>7471</td>\n",
       "      <td>My son loves being able to use this. It's easy...</td>\n",
       "      <td>5</td>\n",
       "    </tr>\n",
       "    <tr>\n",
       "      <td>7470</td>\n",
       "      <td>very sturdy grip to the floor.  right height f...</td>\n",
       "      <td>5</td>\n",
       "    </tr>\n",
       "    <tr>\n",
       "      <td>7469</td>\n",
       "      <td>This is a nice little stool. It's not very hig...</td>\n",
       "      <td>5</td>\n",
       "    </tr>\n",
       "    <tr>\n",
       "      <td>7467</td>\n",
       "      <td>This step stool is the perfect size!  Bought i...</td>\n",
       "      <td>5</td>\n",
       "    </tr>\n",
       "    <tr>\n",
       "      <td>6571</td>\n",
       "      <td>this was a back saver for me while nursing. It...</td>\n",
       "      <td>5</td>\n",
       "    </tr>\n",
       "  </tbody>\n",
       "</table>\n",
       "<p>20000 rows × 2 columns</p>\n",
       "</div>"
      ],
      "text/plain": [
       "                                             reviewText  overall\n",
       "9999  We are starting to potty train our 18 month ol...        1\n",
       "4600  ... If you want to make your kid cry this is a...        1\n",
       "4599  Almost every night, I sit here and wonder why ...        1\n",
       "4598  This game requires that you insert software an...        1\n",
       "4597  ... This memory card holds twice as much space...        1\n",
       "...                                                 ...      ...\n",
       "7471  My son loves being able to use this. It's easy...        5\n",
       "7470  very sturdy grip to the floor.  right height f...        5\n",
       "7469  This is a nice little stool. It's not very hig...        5\n",
       "7467  This step stool is the perfect size!  Bought i...        5\n",
       "6571  this was a back saver for me while nursing. It...        5\n",
       "\n",
       "[20000 rows x 2 columns]"
      ]
     },
     "execution_count": 9,
     "metadata": {},
     "output_type": "execute_result"
    }
   ],
   "source": [
    "df.sort_values('overall', axis = 0, ascending = True, inplace = True)\n",
    "df"
   ]
  },
  {
   "cell_type": "markdown",
   "metadata": {},
   "source": [
    "### Creación de las etiquetas"
   ]
  },
  {
   "cell_type": "markdown",
   "metadata": {},
   "source": [
    "Ahora crearemos nuestras etiquetas, (positive, negative) para poder evaluar nuestro modelo."
   ]
  },
  {
   "cell_type": "code",
   "execution_count": 10,
   "metadata": {},
   "outputs": [],
   "source": [
    "def label_sentiment(row):\n",
    "    if int(row['overall']) <= 2:\n",
    "        return 'neg'\n",
    "    else:\n",
    "        return 'pos'"
   ]
  },
  {
   "cell_type": "code",
   "execution_count": 11,
   "metadata": {},
   "outputs": [],
   "source": [
    "df['sentiment_label'] = df.apply(lambda row: label_sentiment(row), axis=1)"
   ]
  },
  {
   "cell_type": "code",
   "execution_count": 12,
   "metadata": {
    "scrolled": false
   },
   "outputs": [
    {
     "data": {
      "text/html": [
       "<div>\n",
       "<style scoped>\n",
       "    .dataframe tbody tr th:only-of-type {\n",
       "        vertical-align: middle;\n",
       "    }\n",
       "\n",
       "    .dataframe tbody tr th {\n",
       "        vertical-align: top;\n",
       "    }\n",
       "\n",
       "    .dataframe thead th {\n",
       "        text-align: right;\n",
       "    }\n",
       "</style>\n",
       "<table border=\"1\" class=\"dataframe\">\n",
       "  <thead>\n",
       "    <tr style=\"text-align: right;\">\n",
       "      <th></th>\n",
       "      <th>reviewText</th>\n",
       "      <th>overall</th>\n",
       "      <th>sentiment_label</th>\n",
       "    </tr>\n",
       "  </thead>\n",
       "  <tbody>\n",
       "    <tr>\n",
       "      <td>9999</td>\n",
       "      <td>We are starting to potty train our 18 month ol...</td>\n",
       "      <td>1</td>\n",
       "      <td>neg</td>\n",
       "    </tr>\n",
       "    <tr>\n",
       "      <td>4600</td>\n",
       "      <td>... If you want to make your kid cry this is a...</td>\n",
       "      <td>1</td>\n",
       "      <td>neg</td>\n",
       "    </tr>\n",
       "    <tr>\n",
       "      <td>4599</td>\n",
       "      <td>Almost every night, I sit here and wonder why ...</td>\n",
       "      <td>1</td>\n",
       "      <td>neg</td>\n",
       "    </tr>\n",
       "    <tr>\n",
       "      <td>4598</td>\n",
       "      <td>This game requires that you insert software an...</td>\n",
       "      <td>1</td>\n",
       "      <td>neg</td>\n",
       "    </tr>\n",
       "    <tr>\n",
       "      <td>4597</td>\n",
       "      <td>... This memory card holds twice as much space...</td>\n",
       "      <td>1</td>\n",
       "      <td>neg</td>\n",
       "    </tr>\n",
       "    <tr>\n",
       "      <td>...</td>\n",
       "      <td>...</td>\n",
       "      <td>...</td>\n",
       "      <td>...</td>\n",
       "    </tr>\n",
       "    <tr>\n",
       "      <td>7471</td>\n",
       "      <td>My son loves being able to use this. It's easy...</td>\n",
       "      <td>5</td>\n",
       "      <td>pos</td>\n",
       "    </tr>\n",
       "    <tr>\n",
       "      <td>7470</td>\n",
       "      <td>very sturdy grip to the floor.  right height f...</td>\n",
       "      <td>5</td>\n",
       "      <td>pos</td>\n",
       "    </tr>\n",
       "    <tr>\n",
       "      <td>7469</td>\n",
       "      <td>This is a nice little stool. It's not very hig...</td>\n",
       "      <td>5</td>\n",
       "      <td>pos</td>\n",
       "    </tr>\n",
       "    <tr>\n",
       "      <td>7467</td>\n",
       "      <td>This step stool is the perfect size!  Bought i...</td>\n",
       "      <td>5</td>\n",
       "      <td>pos</td>\n",
       "    </tr>\n",
       "    <tr>\n",
       "      <td>6571</td>\n",
       "      <td>this was a back saver for me while nursing. It...</td>\n",
       "      <td>5</td>\n",
       "      <td>pos</td>\n",
       "    </tr>\n",
       "  </tbody>\n",
       "</table>\n",
       "<p>20000 rows × 3 columns</p>\n",
       "</div>"
      ],
      "text/plain": [
       "                                             reviewText  overall  \\\n",
       "9999  We are starting to potty train our 18 month ol...        1   \n",
       "4600  ... If you want to make your kid cry this is a...        1   \n",
       "4599  Almost every night, I sit here and wonder why ...        1   \n",
       "4598  This game requires that you insert software an...        1   \n",
       "4597  ... This memory card holds twice as much space...        1   \n",
       "...                                                 ...      ...   \n",
       "7471  My son loves being able to use this. It's easy...        5   \n",
       "7470  very sturdy grip to the floor.  right height f...        5   \n",
       "7469  This is a nice little stool. It's not very hig...        5   \n",
       "7467  This step stool is the perfect size!  Bought i...        5   \n",
       "6571  this was a back saver for me while nursing. It...        5   \n",
       "\n",
       "     sentiment_label  \n",
       "9999             neg  \n",
       "4600             neg  \n",
       "4599             neg  \n",
       "4598             neg  \n",
       "4597             neg  \n",
       "...              ...  \n",
       "7471             pos  \n",
       "7470             pos  \n",
       "7469             pos  \n",
       "7467             pos  \n",
       "6571             pos  \n",
       "\n",
       "[20000 rows x 3 columns]"
      ]
     },
     "execution_count": 12,
     "metadata": {},
     "output_type": "execute_result"
    }
   ],
   "source": [
    "df"
   ]
  },
  {
   "cell_type": "code",
   "execution_count": 13,
   "metadata": {},
   "outputs": [
    {
     "data": {
      "text/plain": [
       "pos    10000\n",
       "neg    10000\n",
       "Name: sentiment_label, dtype: int64"
      ]
     },
     "execution_count": 13,
     "metadata": {},
     "output_type": "execute_result"
    }
   ],
   "source": [
    "df['sentiment_label'].value_counts()"
   ]
  },
  {
   "cell_type": "code",
   "execution_count": 14,
   "metadata": {},
   "outputs": [
    {
     "data": {
      "text/plain": [
       "<matplotlib.axes._subplots.AxesSubplot at 0x15bc06cae88>"
      ]
     },
     "execution_count": 14,
     "metadata": {},
     "output_type": "execute_result"
    },
    {
     "data": {
      "image/png": "[encoded data removed]",
      "text/plain": [
       "<Figure size 432x288 with 1 Axes>"
      ]
     },
     "metadata": {
      "needs_background": "light"
     },
     "output_type": "display_data"
    }
   ],
   "source": [
    "sns.countplot(x='sentiment_label', data = df)"
   ]
  },
  {
   "cell_type": "markdown",
   "metadata": {},
   "source": [
    "### Dividimos en train y test"
   ]
  },
  {
   "cell_type": "markdown",
   "metadata": {},
   "source": [
    "Ahora ya podemos hacer las divisiones de train y test, procurando que esten bien balanceadas (mismo número de positivos y negativos para todos ellos)"
   ]
  },
  {
   "cell_type": "code",
   "execution_count": 15,
   "metadata": {},
   "outputs": [],
   "source": [
    "X_train, X_test, y_train, y_test = train_test_split(\n",
    "    df['reviewText'],\n",
    "    df['sentiment_label'],\n",
    "    train_size=0.75,\n",
    "    test_size=0.25,\n",
    "    random_state=42,\n",
    "    shuffle=True\n",
    ")"
   ]
  },
  {
   "cell_type": "markdown",
   "metadata": {},
   "source": [
    "## Clasificación binaria sin preprocesado"
   ]
  },
  {
   "cell_type": "markdown",
   "metadata": {},
   "source": [
    "Ahora que ya tenemos preparado nuestro dataset, podemos centrarnos en como abordar la resolución para la clasificación binaria.\n",
    "\n",
    "Para ello usaremos el metodo TF-IDF Vectorizer. \n",
    "Este clasificador, no puede procesar directamente los reviews de texto en su forma original, si no vectores de características numéricas.\n",
    "Para ello usaremos el modelo de la bolsa de palabras, donde para cada review, se tiene en cuenta la presencia y frecuencia de palabras, pero se ignora el contexto."
   ]
  },
  {
   "cell_type": "code",
   "execution_count": null,
   "metadata": {},
   "outputs": [],
   "source": []
  },
  {
   "cell_type": "markdown",
   "metadata": {},
   "source": [
    "### Bolsa de palabras"
   ]
  },
  {
   "cell_type": "markdown",
   "metadata": {},
   "source": [
    "Crearemos un vocabulario formado por las palabras únicas en todos los documentos.\n",
    "Este vocabulario servirá como vector de características.\n",
    "Si la palabra del vocabulario se encuentra en nuestra frase, aparecerá un 1 en su lugar, de lo contrario aparecera un 0."
   ]
  },
  {
   "cell_type": "code",
   "execution_count": 20,
   "metadata": {},
   "outputs": [
    {
     "data": {
      "text/plain": [
       "TfidfVectorizer(analyzer='word', binary=False, decode_error='strict',\n",
       "                dtype=<class 'numpy.float64'>, encoding='utf-8',\n",
       "                input='content', lowercase=True, max_df=0.95, max_features=None,\n",
       "                min_df=5, ngram_range=(1, 1), norm='l2', preprocessor=None,\n",
       "                smooth_idf=True, stop_words=None, strip_accents=None,\n",
       "                sublinear_tf=False, token_pattern='(?u)\\\\b\\\\w\\\\w+\\\\b',\n",
       "                tokenizer=None, use_idf=True, vocabulary=None)"
      ]
     },
     "execution_count": 20,
     "metadata": {},
     "output_type": "execute_result"
    }
   ],
   "source": [
    "cv = TfidfVectorizer(\n",
    "    max_df=0.95,\n",
    "    min_df=5,\n",
    "    #max_features=2500,\n",
    "    ngram_range=(1, 1)\n",
    ")\n",
    "cv.fit(X_train)"
   ]
  },
  {
   "cell_type": "markdown",
   "metadata": {},
   "source": [
    "Para cada frase de nuestro corpues, sacamos su matriz con sus pesos"
   ]
  },
  {
   "cell_type": "code",
   "execution_count": 21,
   "metadata": {},
   "outputs": [
    {
     "name": "stdout",
     "output_type": "stream",
     "text": [
      "[('my', 6001), ('husband', 4570), ('and', 502), ('were', 10158), ('ecstatic', 3009), ('when', 10178), ('we', 10122), ('received', 7361), ('peg', 6605), ('travel', 9570), ('system', 9128), ('for', 3742), ('our', 6392), ('shower', 8235), ('love', 5460), ('the', 9288), ('stroller', 8905), ('infant', 4732), ('seat', 8013), ('together', 9447)]\n"
     ]
    }
   ],
   "source": [
    "print(list(cv.vocabulary_.items())[:20])"
   ]
  },
  {
   "cell_type": "code",
   "execution_count": 22,
   "metadata": {},
   "outputs": [
    {
     "name": "stdout",
     "output_type": "stream",
     "text": [
      "10423\n"
     ]
    }
   ],
   "source": [
    "print(len(cv.vocabulary_))"
   ]
  },
  {
   "cell_type": "markdown",
   "metadata": {},
   "source": [
    "### TF-IDF scores del trainning set y test set\n",
    "\n",
    "Ahora vectorizaremos train y text usando la bolsa de palabras y TF-IDF.\n",
    "Lo que conseguimos con esto, es hacer que las palabras con más frecuencia en un documento y con menos en otros tenga más peso, ya que son las que nos ayudarán a clasificar.\n"
   ]
  },
  {
   "cell_type": "code",
   "execution_count": 25,
   "metadata": {},
   "outputs": [],
   "source": [
    "X_train_ = cv.transform(X_train)\n",
    "X_test_ = cv.transform(X_test)"
   ]
  },
  {
   "cell_type": "code",
   "execution_count": null,
   "metadata": {},
   "outputs": [],
   "source": [
    "Veamos una muestra de como ha quedado nuestro corpus"
   ]
  },
  {
   "cell_type": "code",
   "execution_count": 26,
   "metadata": {},
   "outputs": [
    {
     "name": "stdout",
     "output_type": "stream",
     "text": [
      "ID: 14935\n",
      "Sentiment: neg\n",
      "Review: This game is boring because it's all the same. If you get a different pokemon, it doesnt matter. you do the same thing over and over. You attack and beat and attack and beat. It's too easy too. I thought Pokemon Snap was MUCH better! That game was one of my favorites. This game just has no point. Fighting is the only thing you do. I mean the gameboy pokemon was better than this one! You get to go on an adventure and find things and get items! That was fun. This is fighting ONLY. Boring! If you want a good pokemon game get any of them for gameboy including Yellow, Blue, Red, Gold, Silver. Or even better, get pokemon snap!\n"
     ]
    }
   ],
   "source": [
    "i = random.randint(0, len(X_train))\n",
    "print('ID: {}'.format(i))\n",
    "print('Sentiment: {}'.format(y_train.iloc[i]))\n",
    "print('Review: {}'.format(X_train.iloc[i]))"
   ]
  },
  {
   "cell_type": "markdown",
   "metadata": {},
   "source": [
    "Veamos el top10 de las palabras con un TF-IDF más elevado, y el top10 de las que tienen un TF-IDF más bajo, \n",
    "\n",
    "Recordemos que el valor de TF-IDF aumenta proporcionalmente al número de veces que aparaece una palabra en el review y se compensa con el número de reviews que contienen la palabra.\n",
    " "
   ]
  },
  {
   "cell_type": "code",
   "execution_count": 27,
   "metadata": {},
   "outputs": [
    {
     "name": "stdout",
     "output_type": "stream",
     "text": [
      "Top 10 words with highest TF_IDF in the review 14935:\n",
      "             tfidf\n",
      "pokemon   0.566112\n",
      "gameboy   0.228226\n",
      "snap      0.219635\n",
      "get       0.204575\n",
      "attack    0.198805\n",
      "you       0.197987\n",
      "game      0.175831\n",
      "fighting  0.170445\n",
      "boring    0.167569\n",
      "beat      0.159884\n",
      "\n",
      "Top 10 words with lowest TF_IDF in the review 14935:\n",
      "         tfidf\n",
      "good  0.044842\n",
      "no    0.044730\n",
      "has   0.043065\n",
      "or    0.040293\n",
      "just  0.038541\n",
      "all   0.038277\n",
      "on    0.031388\n",
      "my    0.028574\n",
      "for   0.025895\n",
      "to    0.021692\n"
     ]
    }
   ],
   "source": [
    "doc_vector = X_train_[i]\n",
    "df_tfidf = pd.DataFrame(doc_vector.T.todense(), index=cv.get_feature_names(), columns=['tfidf'])\n",
    "df_tfidf = df_tfidf[df_tfidf['tfidf'] > 0]\n",
    "\n",
    "top_n = 10\n",
    "print('Top {} words with highest TF_IDF in the review {}:\\n{}'.format(top_n, i, df_tfidf.sort_values(by=[\"tfidf\"],ascending=False)[:top_n]))\n",
    "print('\\nTop {} words with lowest TF_IDF in the review {}:\\n{}'.format(top_n, i, df_tfidf.sort_values(by=[\"tfidf\"],ascending=False)[-top_n:]))"
   ]
  },
  {
   "cell_type": "code",
   "execution_count": null,
   "metadata": {},
   "outputs": [],
   "source": [
    "# Compute the chi-squared score for each word in the training set and show the values\n",
    "i = 15\n",
    "\n",
    "chi2score = chi2(X_train_, y_train)[0]\n",
    "scores = list(zip(cv.get_feature_names(), chi2score))\n",
    "sorted_scores = sorted(scores, key=lambda x:x[1])\n",
    "topchi2 = list(zip(*sorted_scores[-i:]))\n",
    "x = range(len(topchi2[1]))\n",
    "labels = topchi2[0]"
   ]
  },
  {
   "cell_type": "markdown",
   "metadata": {},
   "source": [
    "Usaremos la Regresión Logística, y obtendremos los mejores parámetros para este algorítmo"
   ]
  },
  {
   "cell_type": "code",
   "execution_count": 16,
   "metadata": {},
   "outputs": [
    {
     "ename": "NameError",
     "evalue": "name 'X_train_' is not defined",
     "output_type": "error",
     "traceback": [
      "\u001b[1;31m---------------------------------------------------------------------------\u001b[0m",
      "\u001b[1;31mNameError\u001b[0m                                 Traceback (most recent call last)",
      "\u001b[1;32m<ipython-input-16-13ae304658a2>\u001b[0m in \u001b[0;36m<module>\u001b[1;34m\u001b[0m\n\u001b[0;32m      5\u001b[0m \u001b[1;32mfor\u001b[0m \u001b[0mc\u001b[0m \u001b[1;32min\u001b[0m \u001b[0mc_params\u001b[0m\u001b[1;33m:\u001b[0m\u001b[1;33m\u001b[0m\u001b[1;33m\u001b[0m\u001b[0m\n\u001b[0;32m      6\u001b[0m     \u001b[0mlr\u001b[0m \u001b[1;33m=\u001b[0m \u001b[0mLogisticRegression\u001b[0m\u001b[1;33m(\u001b[0m\u001b[0mC\u001b[0m\u001b[1;33m=\u001b[0m\u001b[0mc\u001b[0m\u001b[1;33m,\u001b[0m \u001b[0msolver\u001b[0m\u001b[1;33m=\u001b[0m\u001b[1;34m'lbfgs'\u001b[0m\u001b[1;33m,\u001b[0m \u001b[0mmax_iter\u001b[0m\u001b[1;33m=\u001b[0m\u001b[1;36m500\u001b[0m\u001b[1;33m)\u001b[0m\u001b[1;33m\u001b[0m\u001b[1;33m\u001b[0m\u001b[0m\n\u001b[1;32m----> 7\u001b[1;33m     \u001b[0mlr\u001b[0m\u001b[1;33m.\u001b[0m\u001b[0mfit\u001b[0m\u001b[1;33m(\u001b[0m\u001b[0mX_train_\u001b[0m\u001b[1;33m,\u001b[0m \u001b[0my_train\u001b[0m\u001b[1;33m)\u001b[0m\u001b[1;33m\u001b[0m\u001b[1;33m\u001b[0m\u001b[0m\n\u001b[0m\u001b[0;32m      8\u001b[0m \u001b[1;33m\u001b[0m\u001b[0m\n\u001b[0;32m      9\u001b[0m     \u001b[0mtrain_predict\u001b[0m \u001b[1;33m=\u001b[0m \u001b[0mlr\u001b[0m\u001b[1;33m.\u001b[0m\u001b[0mpredict\u001b[0m\u001b[1;33m(\u001b[0m\u001b[0mX_train_\u001b[0m\u001b[1;33m)\u001b[0m\u001b[1;33m\u001b[0m\u001b[1;33m\u001b[0m\u001b[0m\n",
      "\u001b[1;31mNameError\u001b[0m: name 'X_train_' is not defined"
     ]
    }
   ],
   "source": [
    "c_params = [0.01, 0.05, 0.25, 0.5, 1, 10, 100, 1000, 10000]\n",
    "\n",
    "train_acc = list()\n",
    "test_acc = list()\n",
    "for c in c_params:\n",
    "    lr = LogisticRegression(C=c, solver='lbfgs', max_iter=500)\n",
    "    lr.fit(X_train_, y_train)\n",
    "    \n",
    "    train_predict = lr.predict(X_train_)\n",
    "    test_predict = lr.predict(X_test_)\n",
    "    \n",
    "    print (\"Accuracy for C={}: {}\".format(c, accuracy_score(y_test, test_predict)))\n",
    "    \n",
    "    train_acc.append(accuracy_score(y_train, train_predict))\n",
    "    test_acc.append(accuracy_score(y_test, test_predict))"
   ]
  },
  {
   "cell_type": "markdown",
   "metadata": {},
   "source": [
    "Para evaluar el modelo de clasificación binaria, usaremos la matriz de confusión, el informe de clasificación y la precisión como métricas de rendimiento"
   ]
  },
  {
   "cell_type": "code",
   "execution_count": null,
   "metadata": {},
   "outputs": [],
   "source": [
    "print(confusion_matrix(y_test,predictions))  \n",
    "print(classification_report(y_test,predictions))  \n",
    "print(accuracy_score(y_test, predictions))"
   ]
  },
  {
   "cell_type": "markdown",
   "metadata": {},
   "source": [
    "## Con preprocesado"
   ]
  },
  {
   "cell_type": "code",
   "execution_count": null,
   "metadata": {},
   "outputs": [],
   "source": []
  },
  {
   "cell_type": "markdown",
   "metadata": {},
   "source": [
    "### Extracción de features"
   ]
  },
  {
   "cell_type": "code",
   "execution_count": null,
   "metadata": {},
   "outputs": [],
   "source": [
    "cv = TfidfVectorizer(\n",
    "    max_df=0.95,\n",
    "    min_df=5,\n",
    "    max_features=2500,\n",
    "    strip_accents='ascii',#quitar acentos\n",
    "    ngram_range=(2, 3)\n",
    ")\n",
    "cv.fit(X_train)"
   ]
  },
  {
   "cell_type": "markdown",
   "metadata": {},
   "source": [
    "# Clasificación múltiple"
   ]
  },
  {
   "cell_type": "markdown",
   "metadata": {},
   "source": [
    "Para clasificación múltiple debemos crear un nuevo dataset e incluir los registros con 3 estrellas. También habrá que crear unas nuevas etiquetas para incluir éstas y hacer una nueva división para train y test.\n",
    "\n",
    "Recordemos que para la clasificación multiclase, el dataset estará formado por:\n",
    "- 2000 registros para 4 y 5 estrellas.\n",
    "- 2000 registros para 1 y 2 estrellas.\n",
    "- 1000 registros para 3 estrellas.\n",
    "\n",
    "No olvidemos que esto es para cada uno de ellos, con lo que acabaremos trabajando con un dataset de 20.000, igual que para la clasificación binaria.\n"
   ]
  },
  {
   "cell_type": "markdown",
   "metadata": {},
   "source": [
    "En este caso, utilizaremos la 'Bolsa de palabras' con el esquema TF-IDF para convertir el texto en números.\n",
    "\n",
    "Para ello, crearemos un vocabulario formado por las palabras únicas en todos los documentos.\n",
    "Este vocabulario servirá como vector de características.\n",
    "Si la palabra del vocabulario se encuentra en nuestra frase, aparecerá un 1 en su lugar, de lo contrario aparecera un 0.\n",
    "\n",
    "TF-IDF lo que hace es que las palabras con más frecuencia en un documento y con menos en otros tenga más peso, ya que son las que nos ayudarán a clasificar."
   ]
  },
  {
   "cell_type": "markdown",
   "metadata": {},
   "source": [
    "### Creamos nuestro dataset"
   ]
  },
  {
   "cell_type": "markdown",
   "metadata": {},
   "source": [
    "Usaremos los subset creados para la calsificación binaria y le añadiremos los subsets para los registros de 3 estrellas."
   ]
  },
  {
   "cell_type": "code",
   "execution_count": null,
   "metadata": {},
   "outputs": [],
   "source": [
    "dfVideogamesNeutral = dfVideogames[dfVideogames['overall'] == 3]\n",
    "dfBabyNeutral = dfBaby[dfBaby['overall'] == 3]\n",
    "dfPetsNeutral = dfPets[dfPets['overall'] == 3]\n",
    "dfHealthNeutral = dfHealth[dfHealth['overall'] == 3]"
   ]
  },
  {
   "cell_type": "markdown",
   "metadata": {},
   "source": [
    "Creamos nuestro dataset, para cada uno escogeremos:\n",
    "- 500 registros de los subsets df_Positive.\n",
    "- 250 registros de los subsets df_Neutral.\n",
    "- 500 registros de los subsets df_Negative."
   ]
  },
  {
   "cell_type": "code",
   "execution_count": null,
   "metadata": {},
   "outputs": [],
   "source": [
    "dfMultiClass = pd.concat([dfVideogamesPositive[:2000], dfVideogamesNegative[:2000], dfVideogamesNeutral[:1000],\n",
    "                        dfBabyPositive[:2000], dfBabyNegative[:2000], dfBabyNeutral[:1000], \n",
    "                        dfHealthPositive[:2000], dfHealthNegative[:2000], dfHealthNeutral[:1000],\n",
    "                        dfPetsPositive[:2000], dfPetsNegative[:2000], dfPetsNeutral[:1000]], axis = 0, ignore_index = True)"
   ]
  },
  {
   "cell_type": "code",
   "execution_count": null,
   "metadata": {},
   "outputs": [],
   "source": [
    "dfMultiClass.shape"
   ]
  },
  {
   "cell_type": "code",
   "execution_count": null,
   "metadata": {},
   "outputs": [],
   "source": [
    "dfMultiClass.head()"
   ]
  },
  {
   "cell_type": "markdown",
   "metadata": {},
   "source": [
    "Al igual que anteriormente, mezclaremos el dataset para que los grupos queden integrados, ordenandolos por las estrellas."
   ]
  },
  {
   "cell_type": "code",
   "execution_count": null,
   "metadata": {},
   "outputs": [],
   "source": [
    "dfMultiClass.sort_values('overall', axis = 0, ascending = True, inplace = True)\n",
    "dfMultiClass"
   ]
  },
  {
   "cell_type": "markdown",
   "metadata": {},
   "source": [
    "### Creamos las etiquetas"
   ]
  },
  {
   "cell_type": "markdown",
   "metadata": {},
   "source": [
    "Ahora crearemos nuestras etiquetas, (positive, neutral y negative) para poder evaluar nuestro modelo."
   ]
  },
  {
   "cell_type": "code",
   "execution_count": null,
   "metadata": {},
   "outputs": [],
   "source": [
    "def label_sentimentMultiClass(row):\n",
    "    if int(row['overall']) <= 2:\n",
    "        return 'neg'\n",
    "    elif int(row['overall']) >= 4:\n",
    "        return 'pos'\n",
    "    else:\n",
    "        return 'neutral'"
   ]
  },
  {
   "cell_type": "code",
   "execution_count": null,
   "metadata": {},
   "outputs": [],
   "source": [
    "dfMultiClass['sentiment_label'] = dfMultiClass.apply(lambda row: label_sentimentMultiClass(row), axis=1)"
   ]
  },
  {
   "cell_type": "markdown",
   "metadata": {},
   "source": [
    "Comprobamos que todo ha salido como esperabamos:"
   ]
  },
  {
   "cell_type": "code",
   "execution_count": null,
   "metadata": {
    "scrolled": false
   },
   "outputs": [],
   "source": [
    "dfMultiClass['sentiment_label'].value_counts()"
   ]
  },
  {
   "cell_type": "code",
   "execution_count": null,
   "metadata": {},
   "outputs": [],
   "source": [
    "sns.countplot(x='sentiment_label', data = dfMultiClass)"
   ]
  },
  {
   "cell_type": "markdown",
   "metadata": {},
   "source": [
    "### Dividimos en train y test"
   ]
  },
  {
   "cell_type": "markdown",
   "metadata": {},
   "source": [
    "Ahora ya podemos hacer las divisiones de train y test, procurando que esten bien balanceadas (mismo número de positivos, neutros y negativos para todos ellos)"
   ]
  },
  {
   "cell_type": "code",
   "execution_count": null,
   "metadata": {},
   "outputs": [],
   "source": [
    "XMultiClass_train, XMultiClass_test, yMultiClass_train, yMultiClass_test = train_test_split(\n",
    "    dfMultiClass['reviewText'],\n",
    "    dfMultiClass['sentiment_label'],\n",
    "    train_size=0.75,\n",
    "    test_size=0.25,\n",
    "    random_state=42,\n",
    "    shuffle=True\n",
    ")"
   ]
  },
  {
   "cell_type": "markdown",
   "metadata": {},
   "source": [
    "## Sin preprocesado"
   ]
  },
  {
   "cell_type": "code",
   "execution_count": null,
   "metadata": {},
   "outputs": [],
   "source": []
  },
  {
   "cell_type": "markdown",
   "metadata": {},
   "source": [
    "## Con preprocesado"
   ]
  }
 ],
 "metadata": {
  "kernelspec": {
   "display_name": "Python 3",
   "language": "python",
   "name": "python3"
  },
  "language_info": {
   "codemirror_mode": {
    "name": "ipython",
    "version": 3
   },
   "file_extension": ".py",
   "mimetype": "text/x-python",
   "name": "python",
   "nbconvert_exporter": "python",
   "pygments_lexer": "ipython3",
   "version": "3.7.4"
  }
 },
 "nbformat": 4,
 "nbformat_minor": 2
}
