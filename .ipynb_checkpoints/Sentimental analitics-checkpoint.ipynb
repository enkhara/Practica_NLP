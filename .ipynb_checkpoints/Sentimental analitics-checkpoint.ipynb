{
 "cells": [
  {
   "cell_type": "markdown",
   "metadata": {},
   "source": [
    "# Análisis de sentimiento\n",
    "\n",
    "### Introducción\n",
    "\n",
    "En NLP, el análisis de sentimiento es el proceso mediante el cual, se busca detectar la subjetividad, polaridad e intensidad en un fragmento de texto.\n",
    "\n",
    " - Subjetividad: sentimientos expresados\n",
    " - Polaridad: deterctar si es un sentimiento positivo o negativo\n",
    " - Intensidad: fuerza del sentimiento u opinión\n",
    " \n",
    "### Configuración de nuestro dataset\n",
    "\n",
    "Los datos están extraidos de [Reviews de Amazon](http://jmcauley.ucsd.edu/data/amazon/)\n",
    "\n",
    "#### Dataset para clasificación binaria \n",
    "\n",
    "Se crea un dataset formado por:\n",
    "\n",
    "- 3000 registros para 4 y 5 estrellas.\n",
    "- 3000 registros para 1 y 2 estrellas.\n",
    "\n",
    "Esto lo haremos para los 4 datas, con lo que acabaremos trabajando con 24.000 registros.\n",
    "\n",
    "#### Dataset para clasificación múltiple\n",
    "\n",
    "Se crea un nuevo dataset y se incluyen los registros con 3 estrellas. También habrá que crear unas nuevas etiquetas para éstas.\n",
    "\n",
    "Recordemos que para la clasificación multiclase, el dataset estará formado por:\n",
    "- 2000 registros para 4 y 5 estrellas.\n",
    "- 2000 registros para 1 y 2 estrellas.\n",
    "- 2000 registros para 3 estrellas.\n",
    "\n",
    "No olvidemos que esto es para cada uno de ellos, con lo que acabaremos trabajando con un dataset de 24.000, igual que para la clasificación binaria.\n",
    "\n",
    "\n",
    " \n",
    "### Que caminos tomaremos para realizar el análisis de sentimientos.\n",
    "\n",
    "Para realizar el análisis de sentimiento, abordaremos cuatro caminos diferentes, para poder obtener diferentes resultados y ver cual funciona mejor.\n",
    "\n",
    "1. Clasificación binaria sin preprocesado\n",
    "2. Clasificación binaria con preprocesado.\n",
    "3. Clasificación multiclase: sin preprocesado\n",
    "4. Clasificación multiclase con preprocesado.\n",
    "\n",
    "\n",
    "### Estructura de este notebook\n",
    "\n",
    "0. Cargamos las librerías.\n",
    "1. Cargamos los datos, creamos los datasets y las etiquetas.\n",
    "2. Función train test split\n",
    "3. Clasificación binaria.\n",
    "    3.1 Sin preprocesado.\n",
    "    3.2 Con preprocesado.\n",
    "4. Clasificación multiclase.\n",
    "    4.1 Sin preprocesado.\n",
    "    4.2 Con preprocesado.\n",
    "5. Conclusiones"
   ]
  },
  {
   "cell_type": "markdown",
   "metadata": {},
   "source": [
    "## 0. Cargamos las librerías necesarias"
   ]
  },
  {
   "cell_type": "code",
   "execution_count": 228,
   "metadata": {},
   "outputs": [],
   "source": [
    "import sys\n",
    "sys.path.append('../..')\n",
    "\n",
    "\n",
    "import random\n",
    "import numpy as np\n",
    "import pandas as pd\n",
    "\n",
    "import json\n",
    "import re\n",
    "\n",
    "from sklearn.model_selection import train_test_split\n",
    "from sklearn.pipeline import Pipeline\n",
    "from sklearn.feature_extraction.text import CountVectorizer, TfidfVectorizer\n",
    "from sklearn.feature_selection import chi2\n",
    "from sklearn.linear_model import LogisticRegression\n",
    "from sklearn.metrics import accuracy_score, confusion_matrix, classification_report, roc_curve\n",
    "\n",
    "from sklearn.model_selection import GridSearchCV\n",
    "from sklearn.ensemble import RandomForestClassifier\n",
    "from sklearn.tree import DecisionTreeClassifier\n",
    "from sklearn import tree\n",
    "\n",
    "import matplotlib.pyplot as plt\n",
    "import seaborn as sns\n",
    "\n",
    "import nltk \n",
    "\n",
    "from nltk.corpus import stopwords \n",
    "from nltk.stem import WordNetLemmatizer\n",
    "\n",
    "import gensim\n",
    "from gensim.corpora import Dictionary\n"
   ]
  },
  {
   "cell_type": "markdown",
   "metadata": {},
   "source": [
    "## 1. Cargamos los datos"
   ]
  },
  {
   "cell_type": "code",
   "execution_count": 171,
   "metadata": {},
   "outputs": [],
   "source": [
    "#cargamos el dataset de Videogames\n",
    "dfVideogames = pd.read_json('data/Videogames.json', lines = True)\n",
    "#cargamos el dataset de Babies\n",
    "dfBaby = pd.read_json('data/Baby.json', lines = True)\n",
    "#cargamos el dataset de Health and Personal Care\n",
    "dfHealth = pd.read_json('data/Health.json', lines = True) \n",
    "#cargamos el dataset de Pets Supplies\n",
    "dfPets = pd.read_json('data/Pets.json', lines = True)"
   ]
  },
  {
   "cell_type": "markdown",
   "metadata": {},
   "source": [
    "Comprobamos que se hayan cargado bien los datos."
   ]
  },
  {
   "cell_type": "code",
   "execution_count": 172,
   "metadata": {},
   "outputs": [
    {
     "name": "stdout",
     "output_type": "stream",
     "text": [
      "Dataset de videojuegos\n",
      "(231780, 9)\n",
      "Dataset de bebes:\n",
      "(160792, 9)\n",
      "Dataset de suministros de mascotas:\n",
      "(157836, 9)\n",
      "Dataset de salud y cuidado personal:\n",
      "(346355, 9)\n"
     ]
    },
    {
     "data": {
      "text/html": [
       "<div>\n",
       "<style scoped>\n",
       "    .dataframe tbody tr th:only-of-type {\n",
       "        vertical-align: middle;\n",
       "    }\n",
       "\n",
       "    .dataframe tbody tr th {\n",
       "        vertical-align: top;\n",
       "    }\n",
       "\n",
       "    .dataframe thead th {\n",
       "        text-align: right;\n",
       "    }\n",
       "</style>\n",
       "<table border=\"1\" class=\"dataframe\">\n",
       "  <thead>\n",
       "    <tr style=\"text-align: right;\">\n",
       "      <th></th>\n",
       "      <th>reviewerID</th>\n",
       "      <th>asin</th>\n",
       "      <th>reviewerName</th>\n",
       "      <th>helpful</th>\n",
       "      <th>reviewText</th>\n",
       "      <th>overall</th>\n",
       "      <th>summary</th>\n",
       "      <th>unixReviewTime</th>\n",
       "      <th>reviewTime</th>\n",
       "    </tr>\n",
       "  </thead>\n",
       "  <tbody>\n",
       "    <tr>\n",
       "      <td>0</td>\n",
       "      <td>ALC5GH8CAMAI7</td>\n",
       "      <td>159985130X</td>\n",
       "      <td>AnnN</td>\n",
       "      <td>[1, 1]</td>\n",
       "      <td>This is a great little gadget to have around. ...</td>\n",
       "      <td>5</td>\n",
       "      <td>Handy little gadget</td>\n",
       "      <td>1294185600</td>\n",
       "      <td>01 5, 2011</td>\n",
       "    </tr>\n",
       "    <tr>\n",
       "      <td>1</td>\n",
       "      <td>AHKSURW85PJUE</td>\n",
       "      <td>159985130X</td>\n",
       "      <td>AZ buyer \"AZ buyer\"</td>\n",
       "      <td>[1, 1]</td>\n",
       "      <td>I would recommend this for a travel magnifier ...</td>\n",
       "      <td>4</td>\n",
       "      <td>Small &amp; may need to encourage battery</td>\n",
       "      <td>1329523200</td>\n",
       "      <td>02 18, 2012</td>\n",
       "    </tr>\n",
       "    <tr>\n",
       "      <td>2</td>\n",
       "      <td>A38RMU1Y5TDP9</td>\n",
       "      <td>159985130X</td>\n",
       "      <td>Bob Tobias \"Robert Tobias\"</td>\n",
       "      <td>[75, 77]</td>\n",
       "      <td>What I liked was the quality of the lens and t...</td>\n",
       "      <td>4</td>\n",
       "      <td>Very good but not great</td>\n",
       "      <td>1275955200</td>\n",
       "      <td>06 8, 2010</td>\n",
       "    </tr>\n",
       "    <tr>\n",
       "      <td>3</td>\n",
       "      <td>A1XZUG7DFXXOS4</td>\n",
       "      <td>159985130X</td>\n",
       "      <td>Cat lover</td>\n",
       "      <td>[56, 60]</td>\n",
       "      <td>Love the Great point light pocket magnifier!  ...</td>\n",
       "      <td>4</td>\n",
       "      <td>great addition to your purse</td>\n",
       "      <td>1202428800</td>\n",
       "      <td>02 8, 2008</td>\n",
       "    </tr>\n",
       "    <tr>\n",
       "      <td>4</td>\n",
       "      <td>A1MS3M7M7AM13X</td>\n",
       "      <td>159985130X</td>\n",
       "      <td>Cricketoes</td>\n",
       "      <td>[1, 1]</td>\n",
       "      <td>This is very nice. You pull out on the magnifi...</td>\n",
       "      <td>5</td>\n",
       "      <td>Very nice and convenient.</td>\n",
       "      <td>1313452800</td>\n",
       "      <td>08 16, 2011</td>\n",
       "    </tr>\n",
       "  </tbody>\n",
       "</table>\n",
       "</div>"
      ],
      "text/plain": [
       "       reviewerID        asin                reviewerName   helpful  \\\n",
       "0   ALC5GH8CAMAI7  159985130X                        AnnN    [1, 1]   \n",
       "1   AHKSURW85PJUE  159985130X         AZ buyer \"AZ buyer\"    [1, 1]   \n",
       "2   A38RMU1Y5TDP9  159985130X  Bob Tobias \"Robert Tobias\"  [75, 77]   \n",
       "3  A1XZUG7DFXXOS4  159985130X                   Cat lover  [56, 60]   \n",
       "4  A1MS3M7M7AM13X  159985130X                  Cricketoes    [1, 1]   \n",
       "\n",
       "                                          reviewText  overall  \\\n",
       "0  This is a great little gadget to have around. ...        5   \n",
       "1  I would recommend this for a travel magnifier ...        4   \n",
       "2  What I liked was the quality of the lens and t...        4   \n",
       "3  Love the Great point light pocket magnifier!  ...        4   \n",
       "4  This is very nice. You pull out on the magnifi...        5   \n",
       "\n",
       "                                 summary  unixReviewTime   reviewTime  \n",
       "0                    Handy little gadget      1294185600   01 5, 2011  \n",
       "1  Small & may need to encourage battery      1329523200  02 18, 2012  \n",
       "2                Very good but not great      1275955200   06 8, 2010  \n",
       "3           great addition to your purse      1202428800   02 8, 2008  \n",
       "4              Very nice and convenient.      1313452800  08 16, 2011  "
      ]
     },
     "execution_count": 172,
     "metadata": {},
     "output_type": "execute_result"
    }
   ],
   "source": [
    "print('Dataset de videojuegos')\n",
    "print(dfVideogames.shape)\n",
    "\n",
    "\n",
    "print('Dataset de bebes:')\n",
    "print(dfBaby.shape)\n",
    "\n",
    "\n",
    "print('Dataset de suministros de mascotas:')\n",
    "print(dfPets.shape)\n",
    "\n",
    "\n",
    "print('Dataset de salud y cuidado personal:')\n",
    "print(dfHealth.shape)\n",
    "dfHealth.head()"
   ]
  },
  {
   "cell_type": "markdown",
   "metadata": {},
   "source": [
    "Vamos a quedarnos únicamente con las variables 'reviewText' y 'overall', y eliminaremos los valores NA's"
   ]
  },
  {
   "cell_type": "code",
   "execution_count": 173,
   "metadata": {},
   "outputs": [
    {
     "name": "stdout",
     "output_type": "stream",
     "text": [
      "(231780, 2)\n",
      "(160792, 2)\n",
      "(157836, 2)\n",
      "(346355, 2)\n"
     ]
    }
   ],
   "source": [
    "dfVideogames = dfVideogames[['reviewText', 'overall']]\n",
    "dfVideogames.dropna(inplace = True)\n",
    "print(dfVideogames.shape)\n",
    "dfBaby = dfBaby[['reviewText', 'overall']]\n",
    "dfBaby.dropna(inplace = True)\n",
    "print(dfBaby.shape)\n",
    "dfPets = dfPets[['reviewText', 'overall']]\n",
    "dfPets.dropna(inplace = True)\n",
    "print(dfPets.shape)\n",
    "dfHealth = dfHealth[['reviewText', 'overall']]\n",
    "dfHealth.dropna(inplace = True)\n",
    "print(dfHealth.shape)"
   ]
  },
  {
   "cell_type": "markdown",
   "metadata": {},
   "source": [
    "### 1.0. Creamos nuestro dataset para la clasificación binaria"
   ]
  },
  {
   "cell_type": "markdown",
   "metadata": {},
   "source": [
    "Vamos a confeccionar el dataset con el que vamos a evaluar nuestro modelo para la parte de clasificación binaria (2.500 positivas + 2.500 negativas) * dataset."
   ]
  },
  {
   "cell_type": "code",
   "execution_count": 174,
   "metadata": {},
   "outputs": [],
   "source": [
    "dfVideogamesPositive= dfVideogames[dfVideogames['overall'] >= 4]\n",
    "dfVideogamesNegative= dfVideogames[dfVideogames['overall'] <= 2]\n",
    "\n",
    "dfBabyPositive = dfBaby[dfBaby['overall'] >= 4] \n",
    "dfBabyNegative = dfBaby[dfBaby['overall'] <= 2]\n",
    "\n",
    "dfPetsPositive = dfPets[dfPets['overall'] >= 4] \n",
    "dfPetsNegative = dfPets[dfPets['overall'] <= 2]\n",
    "\n",
    "dfHealthPositive = dfHealth[dfHealth['overall'] >= 4]\n",
    "dfHealthNegative = dfHealth[dfHealth['overall'] <= 2]"
   ]
  },
  {
   "cell_type": "markdown",
   "metadata": {},
   "source": [
    "Concatenamos los 4 dataset para cogiendo sólo los primeros 2500 registros de positivos y negativos para confeccionar 'df'"
   ]
  },
  {
   "cell_type": "code",
   "execution_count": 175,
   "metadata": {},
   "outputs": [
    {
     "name": "stdout",
     "output_type": "stream",
     "text": [
      "(24000, 2)\n"
     ]
    },
    {
     "data": {
      "text/html": [
       "<div>\n",
       "<style scoped>\n",
       "    .dataframe tbody tr th:only-of-type {\n",
       "        vertical-align: middle;\n",
       "    }\n",
       "\n",
       "    .dataframe tbody tr th {\n",
       "        vertical-align: top;\n",
       "    }\n",
       "\n",
       "    .dataframe thead th {\n",
       "        text-align: right;\n",
       "    }\n",
       "</style>\n",
       "<table border=\"1\" class=\"dataframe\">\n",
       "  <thead>\n",
       "    <tr style=\"text-align: right;\">\n",
       "      <th></th>\n",
       "      <th>reviewText</th>\n",
       "      <th>overall</th>\n",
       "    </tr>\n",
       "  </thead>\n",
       "  <tbody>\n",
       "    <tr>\n",
       "      <td>0</td>\n",
       "      <td>If you like rally cars get this game you will ...</td>\n",
       "      <td>4</td>\n",
       "    </tr>\n",
       "    <tr>\n",
       "      <td>1</td>\n",
       "      <td>I had Dirt 2 on Xbox 360 and it was an okay ga...</td>\n",
       "      <td>4</td>\n",
       "    </tr>\n",
       "    <tr>\n",
       "      <td>2</td>\n",
       "      <td>Overall this is a well done racing game, with ...</td>\n",
       "      <td>4</td>\n",
       "    </tr>\n",
       "    <tr>\n",
       "      <td>3</td>\n",
       "      <td>Loved playing Dirt 2 and I thought the graphic...</td>\n",
       "      <td>5</td>\n",
       "    </tr>\n",
       "    <tr>\n",
       "      <td>4</td>\n",
       "      <td>I initially gave this one star because it was ...</td>\n",
       "      <td>4</td>\n",
       "    </tr>\n",
       "  </tbody>\n",
       "</table>\n",
       "</div>"
      ],
      "text/plain": [
       "                                          reviewText  overall\n",
       "0  If you like rally cars get this game you will ...        4\n",
       "1  I had Dirt 2 on Xbox 360 and it was an okay ga...        4\n",
       "2  Overall this is a well done racing game, with ...        4\n",
       "3  Loved playing Dirt 2 and I thought the graphic...        5\n",
       "4  I initially gave this one star because it was ...        4"
      ]
     },
     "execution_count": 175,
     "metadata": {},
     "output_type": "execute_result"
    }
   ],
   "source": [
    "df = pd.concat([dfVideogamesPositive[:3000], dfVideogamesNegative[:3000], \n",
    "                dfBabyPositive[:3000], dfBabyNegative[:3000], \n",
    "                dfHealthPositive[:3000], dfHealthNegative[:3000],\n",
    "                dfPetsPositive[:3000], dfPetsNegative[:3000]], axis = 0, ignore_index = True)\n",
    "\n",
    "print(df.shape)\n",
    "df.head()"
   ]
  },
  {
   "cell_type": "markdown",
   "metadata": {},
   "source": [
    "Ordenamos nuestro data por la variable 'overall', así integramos todos los subsets."
   ]
  },
  {
   "cell_type": "code",
   "execution_count": 176,
   "metadata": {},
   "outputs": [
    {
     "data": {
      "text/html": [
       "<div>\n",
       "<style scoped>\n",
       "    .dataframe tbody tr th:only-of-type {\n",
       "        vertical-align: middle;\n",
       "    }\n",
       "\n",
       "    .dataframe tbody tr th {\n",
       "        vertical-align: top;\n",
       "    }\n",
       "\n",
       "    .dataframe thead th {\n",
       "        text-align: right;\n",
       "    }\n",
       "</style>\n",
       "<table border=\"1\" class=\"dataframe\">\n",
       "  <thead>\n",
       "    <tr style=\"text-align: right;\">\n",
       "      <th></th>\n",
       "      <th>reviewText</th>\n",
       "      <th>overall</th>\n",
       "    </tr>\n",
       "  </thead>\n",
       "  <tbody>\n",
       "    <tr>\n",
       "      <td>0</td>\n",
       "      <td>For $12.92 I did not expect much and that is e...</td>\n",
       "      <td>1</td>\n",
       "    </tr>\n",
       "    <tr>\n",
       "      <td>1</td>\n",
       "      <td>This salt was way too intense for me.  I had b...</td>\n",
       "      <td>1</td>\n",
       "    </tr>\n",
       "    <tr>\n",
       "      <td>2</td>\n",
       "      <td>I don't know if it's the &amp;#34;Oaken&amp;#34; or so...</td>\n",
       "      <td>1</td>\n",
       "    </tr>\n",
       "    <tr>\n",
       "      <td>3</td>\n",
       "      <td>This is a review for the 4 ounce Avon SKIN-SO-...</td>\n",
       "      <td>1</td>\n",
       "    </tr>\n",
       "    <tr>\n",
       "      <td>4</td>\n",
       "      <td>This is the worst game of its type.  Save your...</td>\n",
       "      <td>1</td>\n",
       "    </tr>\n",
       "    <tr>\n",
       "      <td>...</td>\n",
       "      <td>...</td>\n",
       "      <td>...</td>\n",
       "    </tr>\n",
       "    <tr>\n",
       "      <td>23995</td>\n",
       "      <td>Simple....effective...nothing fancy...works fi...</td>\n",
       "      <td>5</td>\n",
       "    </tr>\n",
       "    <tr>\n",
       "      <td>23996</td>\n",
       "      <td>So cute, organizes the closet so I can easily ...</td>\n",
       "      <td>5</td>\n",
       "    </tr>\n",
       "    <tr>\n",
       "      <td>23997</td>\n",
       "      <td>It is it is. Nothing special about the divider...</td>\n",
       "      <td>5</td>\n",
       "    </tr>\n",
       "    <tr>\n",
       "      <td>23998</td>\n",
       "      <td>These look great in the closet and do what the...</td>\n",
       "      <td>5</td>\n",
       "    </tr>\n",
       "    <tr>\n",
       "      <td>23999</td>\n",
       "      <td>All my daughter's furniture is a variety of De...</td>\n",
       "      <td>5</td>\n",
       "    </tr>\n",
       "  </tbody>\n",
       "</table>\n",
       "<p>24000 rows × 2 columns</p>\n",
       "</div>"
      ],
      "text/plain": [
       "                                              reviewText  overall\n",
       "0      For $12.92 I did not expect much and that is e...        1\n",
       "1      This salt was way too intense for me.  I had b...        1\n",
       "2      I don't know if it's the &#34;Oaken&#34; or so...        1\n",
       "3      This is a review for the 4 ounce Avon SKIN-SO-...        1\n",
       "4      This is the worst game of its type.  Save your...        1\n",
       "...                                                  ...      ...\n",
       "23995  Simple....effective...nothing fancy...works fi...        5\n",
       "23996  So cute, organizes the closet so I can easily ...        5\n",
       "23997  It is it is. Nothing special about the divider...        5\n",
       "23998  These look great in the closet and do what the...        5\n",
       "23999  All my daughter's furniture is a variety of De...        5\n",
       "\n",
       "[24000 rows x 2 columns]"
      ]
     },
     "execution_count": 176,
     "metadata": {},
     "output_type": "execute_result"
    }
   ],
   "source": [
    "df.sort_values('overall', axis = 0, ascending = True, inplace = True)\n",
    "df.reset_index(drop=True,inplace=True)\n",
    "df"
   ]
  },
  {
   "cell_type": "markdown",
   "metadata": {},
   "source": [
    "### 1.1. Creación de las etiquetas para Clasificación Binaria"
   ]
  },
  {
   "cell_type": "markdown",
   "metadata": {},
   "source": [
    "Ahora crearemos nuestras etiquetas, (positive, negative) para poder evaluar nuestro modelo. Asignaremos el valor 0 a las negativas y 1 a las positivas."
   ]
  },
  {
   "cell_type": "code",
   "execution_count": 177,
   "metadata": {},
   "outputs": [],
   "source": [
    "def label_sentiment(row):\n",
    "    if int(row['overall']) <= 2:\n",
    "        return 0\n",
    "    else:\n",
    "        return 1"
   ]
  },
  {
   "cell_type": "code",
   "execution_count": 178,
   "metadata": {},
   "outputs": [],
   "source": [
    "df['sentiment_label'] = df.apply(lambda row: label_sentiment(row), axis=1)"
   ]
  },
  {
   "cell_type": "code",
   "execution_count": 179,
   "metadata": {},
   "outputs": [
    {
     "data": {
      "text/html": [
       "<div>\n",
       "<style scoped>\n",
       "    .dataframe tbody tr th:only-of-type {\n",
       "        vertical-align: middle;\n",
       "    }\n",
       "\n",
       "    .dataframe tbody tr th {\n",
       "        vertical-align: top;\n",
       "    }\n",
       "\n",
       "    .dataframe thead th {\n",
       "        text-align: right;\n",
       "    }\n",
       "</style>\n",
       "<table border=\"1\" class=\"dataframe\">\n",
       "  <thead>\n",
       "    <tr style=\"text-align: right;\">\n",
       "      <th></th>\n",
       "      <th>reviewText</th>\n",
       "      <th>overall</th>\n",
       "      <th>sentiment_label</th>\n",
       "    </tr>\n",
       "  </thead>\n",
       "  <tbody>\n",
       "    <tr>\n",
       "      <td>0</td>\n",
       "      <td>For $12.92 I did not expect much and that is e...</td>\n",
       "      <td>1</td>\n",
       "      <td>0</td>\n",
       "    </tr>\n",
       "    <tr>\n",
       "      <td>1</td>\n",
       "      <td>This salt was way too intense for me.  I had b...</td>\n",
       "      <td>1</td>\n",
       "      <td>0</td>\n",
       "    </tr>\n",
       "    <tr>\n",
       "      <td>2</td>\n",
       "      <td>I don't know if it's the &amp;#34;Oaken&amp;#34; or so...</td>\n",
       "      <td>1</td>\n",
       "      <td>0</td>\n",
       "    </tr>\n",
       "    <tr>\n",
       "      <td>3</td>\n",
       "      <td>This is a review for the 4 ounce Avon SKIN-SO-...</td>\n",
       "      <td>1</td>\n",
       "      <td>0</td>\n",
       "    </tr>\n",
       "    <tr>\n",
       "      <td>4</td>\n",
       "      <td>This is the worst game of its type.  Save your...</td>\n",
       "      <td>1</td>\n",
       "      <td>0</td>\n",
       "    </tr>\n",
       "    <tr>\n",
       "      <td>...</td>\n",
       "      <td>...</td>\n",
       "      <td>...</td>\n",
       "      <td>...</td>\n",
       "    </tr>\n",
       "    <tr>\n",
       "      <td>23995</td>\n",
       "      <td>Simple....effective...nothing fancy...works fi...</td>\n",
       "      <td>5</td>\n",
       "      <td>1</td>\n",
       "    </tr>\n",
       "    <tr>\n",
       "      <td>23996</td>\n",
       "      <td>So cute, organizes the closet so I can easily ...</td>\n",
       "      <td>5</td>\n",
       "      <td>1</td>\n",
       "    </tr>\n",
       "    <tr>\n",
       "      <td>23997</td>\n",
       "      <td>It is it is. Nothing special about the divider...</td>\n",
       "      <td>5</td>\n",
       "      <td>1</td>\n",
       "    </tr>\n",
       "    <tr>\n",
       "      <td>23998</td>\n",
       "      <td>These look great in the closet and do what the...</td>\n",
       "      <td>5</td>\n",
       "      <td>1</td>\n",
       "    </tr>\n",
       "    <tr>\n",
       "      <td>23999</td>\n",
       "      <td>All my daughter's furniture is a variety of De...</td>\n",
       "      <td>5</td>\n",
       "      <td>1</td>\n",
       "    </tr>\n",
       "  </tbody>\n",
       "</table>\n",
       "<p>24000 rows × 3 columns</p>\n",
       "</div>"
      ],
      "text/plain": [
       "                                              reviewText  overall  \\\n",
       "0      For $12.92 I did not expect much and that is e...        1   \n",
       "1      This salt was way too intense for me.  I had b...        1   \n",
       "2      I don't know if it's the &#34;Oaken&#34; or so...        1   \n",
       "3      This is a review for the 4 ounce Avon SKIN-SO-...        1   \n",
       "4      This is the worst game of its type.  Save your...        1   \n",
       "...                                                  ...      ...   \n",
       "23995  Simple....effective...nothing fancy...works fi...        5   \n",
       "23996  So cute, organizes the closet so I can easily ...        5   \n",
       "23997  It is it is. Nothing special about the divider...        5   \n",
       "23998  These look great in the closet and do what the...        5   \n",
       "23999  All my daughter's furniture is a variety of De...        5   \n",
       "\n",
       "       sentiment_label  \n",
       "0                    0  \n",
       "1                    0  \n",
       "2                    0  \n",
       "3                    0  \n",
       "4                    0  \n",
       "...                ...  \n",
       "23995                1  \n",
       "23996                1  \n",
       "23997                1  \n",
       "23998                1  \n",
       "23999                1  \n",
       "\n",
       "[24000 rows x 3 columns]"
      ]
     },
     "execution_count": 179,
     "metadata": {},
     "output_type": "execute_result"
    }
   ],
   "source": [
    "df"
   ]
  },
  {
   "cell_type": "markdown",
   "metadata": {},
   "source": [
    "Como ya no necesitamos la variable 'overall' la eliminamos del dataset"
   ]
  },
  {
   "cell_type": "code",
   "execution_count": 180,
   "metadata": {},
   "outputs": [
    {
     "data": {
      "text/html": [
       "<div>\n",
       "<style scoped>\n",
       "    .dataframe tbody tr th:only-of-type {\n",
       "        vertical-align: middle;\n",
       "    }\n",
       "\n",
       "    .dataframe tbody tr th {\n",
       "        vertical-align: top;\n",
       "    }\n",
       "\n",
       "    .dataframe thead th {\n",
       "        text-align: right;\n",
       "    }\n",
       "</style>\n",
       "<table border=\"1\" class=\"dataframe\">\n",
       "  <thead>\n",
       "    <tr style=\"text-align: right;\">\n",
       "      <th></th>\n",
       "      <th>reviewText</th>\n",
       "      <th>sentiment_label</th>\n",
       "    </tr>\n",
       "  </thead>\n",
       "  <tbody>\n",
       "    <tr>\n",
       "      <td>0</td>\n",
       "      <td>For $12.92 I did not expect much and that is e...</td>\n",
       "      <td>0</td>\n",
       "    </tr>\n",
       "    <tr>\n",
       "      <td>1</td>\n",
       "      <td>This salt was way too intense for me.  I had b...</td>\n",
       "      <td>0</td>\n",
       "    </tr>\n",
       "    <tr>\n",
       "      <td>2</td>\n",
       "      <td>I don't know if it's the &amp;#34;Oaken&amp;#34; or so...</td>\n",
       "      <td>0</td>\n",
       "    </tr>\n",
       "    <tr>\n",
       "      <td>3</td>\n",
       "      <td>This is a review for the 4 ounce Avon SKIN-SO-...</td>\n",
       "      <td>0</td>\n",
       "    </tr>\n",
       "    <tr>\n",
       "      <td>4</td>\n",
       "      <td>This is the worst game of its type.  Save your...</td>\n",
       "      <td>0</td>\n",
       "    </tr>\n",
       "    <tr>\n",
       "      <td>...</td>\n",
       "      <td>...</td>\n",
       "      <td>...</td>\n",
       "    </tr>\n",
       "    <tr>\n",
       "      <td>23995</td>\n",
       "      <td>Simple....effective...nothing fancy...works fi...</td>\n",
       "      <td>1</td>\n",
       "    </tr>\n",
       "    <tr>\n",
       "      <td>23996</td>\n",
       "      <td>So cute, organizes the closet so I can easily ...</td>\n",
       "      <td>1</td>\n",
       "    </tr>\n",
       "    <tr>\n",
       "      <td>23997</td>\n",
       "      <td>It is it is. Nothing special about the divider...</td>\n",
       "      <td>1</td>\n",
       "    </tr>\n",
       "    <tr>\n",
       "      <td>23998</td>\n",
       "      <td>These look great in the closet and do what the...</td>\n",
       "      <td>1</td>\n",
       "    </tr>\n",
       "    <tr>\n",
       "      <td>23999</td>\n",
       "      <td>All my daughter's furniture is a variety of De...</td>\n",
       "      <td>1</td>\n",
       "    </tr>\n",
       "  </tbody>\n",
       "</table>\n",
       "<p>24000 rows × 2 columns</p>\n",
       "</div>"
      ],
      "text/plain": [
       "                                              reviewText  sentiment_label\n",
       "0      For $12.92 I did not expect much and that is e...                0\n",
       "1      This salt was way too intense for me.  I had b...                0\n",
       "2      I don't know if it's the &#34;Oaken&#34; or so...                0\n",
       "3      This is a review for the 4 ounce Avon SKIN-SO-...                0\n",
       "4      This is the worst game of its type.  Save your...                0\n",
       "...                                                  ...              ...\n",
       "23995  Simple....effective...nothing fancy...works fi...                1\n",
       "23996  So cute, organizes the closet so I can easily ...                1\n",
       "23997  It is it is. Nothing special about the divider...                1\n",
       "23998  These look great in the closet and do what the...                1\n",
       "23999  All my daughter's furniture is a variety of De...                1\n",
       "\n",
       "[24000 rows x 2 columns]"
      ]
     },
     "execution_count": 180,
     "metadata": {},
     "output_type": "execute_result"
    }
   ],
   "source": [
    "del(df['overall'])\n",
    "df"
   ]
  },
  {
   "cell_type": "code",
   "execution_count": 181,
   "metadata": {},
   "outputs": [
    {
     "data": {
      "text/plain": [
       "<matplotlib.axes._subplots.AxesSubplot at 0x28ccd593e88>"
      ]
     },
     "execution_count": 181,
     "metadata": {},
     "output_type": "execute_result"
    },
    {
     "data": {
      "image/png": "[encoded data removed]",
      "text/plain": [
       "<Figure size 432x288 with 1 Axes>"
      ]
     },
     "metadata": {
      "needs_background": "light"
     },
     "output_type": "display_data"
    }
   ],
   "source": [
    "sns.countplot(x='sentiment_label', data = df)"
   ]
  },
  {
   "cell_type": "markdown",
   "metadata": {},
   "source": [
    "### 2.0. Creamos nuestro dataset para la clasificación múltiple"
   ]
  },
  {
   "cell_type": "markdown",
   "metadata": {},
   "source": [
    "Usaremos los subset creados para la calsificación binaria y le añadiremos los subsets para los registros de 3 estrellas."
   ]
  },
  {
   "cell_type": "code",
   "execution_count": 182,
   "metadata": {},
   "outputs": [],
   "source": [
    "dfVideogamesNeutral = dfVideogames[dfVideogames['overall'] == 3]\n",
    "dfBabyNeutral = dfBaby[dfBaby['overall'] == 3]\n",
    "dfPetsNeutral = dfPets[dfPets['overall'] == 3]\n",
    "dfHealthNeutral = dfHealth[dfHealth['overall'] == 3]"
   ]
  },
  {
   "cell_type": "code",
   "execution_count": 183,
   "metadata": {},
   "outputs": [],
   "source": [
    "dfMultiClass = pd.concat([dfVideogamesPositive[:2000], dfVideogamesNegative[:2000], dfVideogamesNeutral[:2000],\n",
    "                        dfBabyPositive[:2000], dfBabyNegative[:2000], dfBabyNeutral[:2000], \n",
    "                        dfHealthPositive[:2000], dfHealthNegative[:2000], dfHealthNeutral[:2000],\n",
    "                        dfPetsPositive[:2000], dfPetsNegative[:2000], dfPetsNeutral[:2000]], axis = 0, ignore_index = True)"
   ]
  },
  {
   "cell_type": "code",
   "execution_count": 184,
   "metadata": {},
   "outputs": [
    {
     "name": "stdout",
     "output_type": "stream",
     "text": [
      "(24000, 2)\n"
     ]
    },
    {
     "data": {
      "text/html": [
       "<div>\n",
       "<style scoped>\n",
       "    .dataframe tbody tr th:only-of-type {\n",
       "        vertical-align: middle;\n",
       "    }\n",
       "\n",
       "    .dataframe tbody tr th {\n",
       "        vertical-align: top;\n",
       "    }\n",
       "\n",
       "    .dataframe thead th {\n",
       "        text-align: right;\n",
       "    }\n",
       "</style>\n",
       "<table border=\"1\" class=\"dataframe\">\n",
       "  <thead>\n",
       "    <tr style=\"text-align: right;\">\n",
       "      <th></th>\n",
       "      <th>reviewText</th>\n",
       "      <th>overall</th>\n",
       "    </tr>\n",
       "  </thead>\n",
       "  <tbody>\n",
       "    <tr>\n",
       "      <td>0</td>\n",
       "      <td>If you like rally cars get this game you will ...</td>\n",
       "      <td>4</td>\n",
       "    </tr>\n",
       "    <tr>\n",
       "      <td>1</td>\n",
       "      <td>I had Dirt 2 on Xbox 360 and it was an okay ga...</td>\n",
       "      <td>4</td>\n",
       "    </tr>\n",
       "    <tr>\n",
       "      <td>2</td>\n",
       "      <td>Overall this is a well done racing game, with ...</td>\n",
       "      <td>4</td>\n",
       "    </tr>\n",
       "    <tr>\n",
       "      <td>3</td>\n",
       "      <td>Loved playing Dirt 2 and I thought the graphic...</td>\n",
       "      <td>5</td>\n",
       "    </tr>\n",
       "    <tr>\n",
       "      <td>4</td>\n",
       "      <td>I initially gave this one star because it was ...</td>\n",
       "      <td>4</td>\n",
       "    </tr>\n",
       "  </tbody>\n",
       "</table>\n",
       "</div>"
      ],
      "text/plain": [
       "                                          reviewText  overall\n",
       "0  If you like rally cars get this game you will ...        4\n",
       "1  I had Dirt 2 on Xbox 360 and it was an okay ga...        4\n",
       "2  Overall this is a well done racing game, with ...        4\n",
       "3  Loved playing Dirt 2 and I thought the graphic...        5\n",
       "4  I initially gave this one star because it was ...        4"
      ]
     },
     "execution_count": 184,
     "metadata": {},
     "output_type": "execute_result"
    }
   ],
   "source": [
    "print(dfMultiClass.shape)\n",
    "dfMultiClass.head()"
   ]
  },
  {
   "cell_type": "markdown",
   "metadata": {},
   "source": [
    "Mezclaremos el dataset para que los grupos queden integrados, ordenandolos por las estrellas."
   ]
  },
  {
   "cell_type": "code",
   "execution_count": 185,
   "metadata": {},
   "outputs": [
    {
     "data": {
      "text/html": [
       "<div>\n",
       "<style scoped>\n",
       "    .dataframe tbody tr th:only-of-type {\n",
       "        vertical-align: middle;\n",
       "    }\n",
       "\n",
       "    .dataframe tbody tr th {\n",
       "        vertical-align: top;\n",
       "    }\n",
       "\n",
       "    .dataframe thead th {\n",
       "        text-align: right;\n",
       "    }\n",
       "</style>\n",
       "<table border=\"1\" class=\"dataframe\">\n",
       "  <thead>\n",
       "    <tr style=\"text-align: right;\">\n",
       "      <th></th>\n",
       "      <th>reviewText</th>\n",
       "      <th>overall</th>\n",
       "    </tr>\n",
       "  </thead>\n",
       "  <tbody>\n",
       "    <tr>\n",
       "      <td>0</td>\n",
       "      <td>I recently saw this at a local AC Moore store....</td>\n",
       "      <td>1</td>\n",
       "    </tr>\n",
       "    <tr>\n",
       "      <td>1</td>\n",
       "      <td>I bought two, one for upstairs and one for dow...</td>\n",
       "      <td>1</td>\n",
       "    </tr>\n",
       "    <tr>\n",
       "      <td>2</td>\n",
       "      <td>Love the idea of the scoop and hide, but this ...</td>\n",
       "      <td>1</td>\n",
       "    </tr>\n",
       "    <tr>\n",
       "      <td>3</td>\n",
       "      <td>After spending 15 minutes using Goo Gone Stick...</td>\n",
       "      <td>1</td>\n",
       "    </tr>\n",
       "    <tr>\n",
       "      <td>4</td>\n",
       "      <td>I bought one of theseBooda Scoop'N Hide Litter...</td>\n",
       "      <td>1</td>\n",
       "    </tr>\n",
       "    <tr>\n",
       "      <td>...</td>\n",
       "      <td>...</td>\n",
       "      <td>...</td>\n",
       "    </tr>\n",
       "    <tr>\n",
       "      <td>23995</td>\n",
       "      <td>We live in Maryland which turns out to be tick...</td>\n",
       "      <td>5</td>\n",
       "    </tr>\n",
       "    <tr>\n",
       "      <td>23996</td>\n",
       "      <td>All of the other brands are a waste of time.  ...</td>\n",
       "      <td>5</td>\n",
       "    </tr>\n",
       "    <tr>\n",
       "      <td>23997</td>\n",
       "      <td>It works great. The price was the best I found...</td>\n",
       "      <td>5</td>\n",
       "    </tr>\n",
       "    <tr>\n",
       "      <td>23998</td>\n",
       "      <td>Shipping was fast, got it within a week with F...</td>\n",
       "      <td>5</td>\n",
       "    </tr>\n",
       "    <tr>\n",
       "      <td>23999</td>\n",
       "      <td>This is a great little gadget to have around. ...</td>\n",
       "      <td>5</td>\n",
       "    </tr>\n",
       "  </tbody>\n",
       "</table>\n",
       "<p>24000 rows × 2 columns</p>\n",
       "</div>"
      ],
      "text/plain": [
       "                                              reviewText  overall\n",
       "0      I recently saw this at a local AC Moore store....        1\n",
       "1      I bought two, one for upstairs and one for dow...        1\n",
       "2      Love the idea of the scoop and hide, but this ...        1\n",
       "3      After spending 15 minutes using Goo Gone Stick...        1\n",
       "4      I bought one of theseBooda Scoop'N Hide Litter...        1\n",
       "...                                                  ...      ...\n",
       "23995  We live in Maryland which turns out to be tick...        5\n",
       "23996  All of the other brands are a waste of time.  ...        5\n",
       "23997  It works great. The price was the best I found...        5\n",
       "23998  Shipping was fast, got it within a week with F...        5\n",
       "23999  This is a great little gadget to have around. ...        5\n",
       "\n",
       "[24000 rows x 2 columns]"
      ]
     },
     "execution_count": 185,
     "metadata": {},
     "output_type": "execute_result"
    }
   ],
   "source": [
    "dfMultiClass.sort_values('overall', axis = 0, ascending = True, inplace = True)\n",
    "dfMultiClass.reset_index(drop=True,inplace=True)\n",
    "dfMultiClass"
   ]
  },
  {
   "cell_type": "markdown",
   "metadata": {},
   "source": [
    "### 2.1. Creación de las etiquetas para Clasificación Multiple"
   ]
  },
  {
   "cell_type": "markdown",
   "metadata": {},
   "source": [
    "Ahora crearemos nuestras etiquetas, (positive, neutral y negative) para poder evaluar nuestro modelo. Para mantener una coherencia dentro del ejercicio, asignaremos el valor 0 para las negativas, 1 para las positivas y 2 para las neutrales."
   ]
  },
  {
   "cell_type": "code",
   "execution_count": 186,
   "metadata": {},
   "outputs": [],
   "source": [
    "def label_sentimentMultiClass(row):\n",
    "    if int(row['overall']) <= 2:\n",
    "        return 0\n",
    "    elif int(row['overall']) >= 4:\n",
    "        return 1\n",
    "    else:\n",
    "        return 2"
   ]
  },
  {
   "cell_type": "code",
   "execution_count": 187,
   "metadata": {},
   "outputs": [],
   "source": [
    "dfMultiClass['sentiment_label'] = dfMultiClass.apply(lambda row: label_sentimentMultiClass(row), axis=1)"
   ]
  },
  {
   "cell_type": "markdown",
   "metadata": {},
   "source": [
    "Eliminamos la variable 'overall'"
   ]
  },
  {
   "cell_type": "code",
   "execution_count": 188,
   "metadata": {},
   "outputs": [
    {
     "data": {
      "text/html": [
       "<div>\n",
       "<style scoped>\n",
       "    .dataframe tbody tr th:only-of-type {\n",
       "        vertical-align: middle;\n",
       "    }\n",
       "\n",
       "    .dataframe tbody tr th {\n",
       "        vertical-align: top;\n",
       "    }\n",
       "\n",
       "    .dataframe thead th {\n",
       "        text-align: right;\n",
       "    }\n",
       "</style>\n",
       "<table border=\"1\" class=\"dataframe\">\n",
       "  <thead>\n",
       "    <tr style=\"text-align: right;\">\n",
       "      <th></th>\n",
       "      <th>reviewText</th>\n",
       "      <th>sentiment_label</th>\n",
       "    </tr>\n",
       "  </thead>\n",
       "  <tbody>\n",
       "    <tr>\n",
       "      <td>0</td>\n",
       "      <td>I recently saw this at a local AC Moore store....</td>\n",
       "      <td>0</td>\n",
       "    </tr>\n",
       "    <tr>\n",
       "      <td>1</td>\n",
       "      <td>I bought two, one for upstairs and one for dow...</td>\n",
       "      <td>0</td>\n",
       "    </tr>\n",
       "    <tr>\n",
       "      <td>2</td>\n",
       "      <td>Love the idea of the scoop and hide, but this ...</td>\n",
       "      <td>0</td>\n",
       "    </tr>\n",
       "    <tr>\n",
       "      <td>3</td>\n",
       "      <td>After spending 15 minutes using Goo Gone Stick...</td>\n",
       "      <td>0</td>\n",
       "    </tr>\n",
       "    <tr>\n",
       "      <td>4</td>\n",
       "      <td>I bought one of theseBooda Scoop'N Hide Litter...</td>\n",
       "      <td>0</td>\n",
       "    </tr>\n",
       "    <tr>\n",
       "      <td>...</td>\n",
       "      <td>...</td>\n",
       "      <td>...</td>\n",
       "    </tr>\n",
       "    <tr>\n",
       "      <td>23995</td>\n",
       "      <td>We live in Maryland which turns out to be tick...</td>\n",
       "      <td>1</td>\n",
       "    </tr>\n",
       "    <tr>\n",
       "      <td>23996</td>\n",
       "      <td>All of the other brands are a waste of time.  ...</td>\n",
       "      <td>1</td>\n",
       "    </tr>\n",
       "    <tr>\n",
       "      <td>23997</td>\n",
       "      <td>It works great. The price was the best I found...</td>\n",
       "      <td>1</td>\n",
       "    </tr>\n",
       "    <tr>\n",
       "      <td>23998</td>\n",
       "      <td>Shipping was fast, got it within a week with F...</td>\n",
       "      <td>1</td>\n",
       "    </tr>\n",
       "    <tr>\n",
       "      <td>23999</td>\n",
       "      <td>This is a great little gadget to have around. ...</td>\n",
       "      <td>1</td>\n",
       "    </tr>\n",
       "  </tbody>\n",
       "</table>\n",
       "<p>24000 rows × 2 columns</p>\n",
       "</div>"
      ],
      "text/plain": [
       "                                              reviewText  sentiment_label\n",
       "0      I recently saw this at a local AC Moore store....                0\n",
       "1      I bought two, one for upstairs and one for dow...                0\n",
       "2      Love the idea of the scoop and hide, but this ...                0\n",
       "3      After spending 15 minutes using Goo Gone Stick...                0\n",
       "4      I bought one of theseBooda Scoop'N Hide Litter...                0\n",
       "...                                                  ...              ...\n",
       "23995  We live in Maryland which turns out to be tick...                1\n",
       "23996  All of the other brands are a waste of time.  ...                1\n",
       "23997  It works great. The price was the best I found...                1\n",
       "23998  Shipping was fast, got it within a week with F...                1\n",
       "23999  This is a great little gadget to have around. ...                1\n",
       "\n",
       "[24000 rows x 2 columns]"
      ]
     },
     "execution_count": 188,
     "metadata": {},
     "output_type": "execute_result"
    }
   ],
   "source": [
    "del(dfMultiClass['overall'])\n",
    "dfMultiClass"
   ]
  },
  {
   "cell_type": "code",
   "execution_count": 93,
   "metadata": {},
   "outputs": [
    {
     "data": {
      "text/plain": [
       "<matplotlib.axes._subplots.AxesSubplot at 0x28cd68342c8>"
      ]
     },
     "execution_count": 93,
     "metadata": {},
     "output_type": "execute_result"
    },
    {
     "data": {
      "image/png": "[encoded data removed]",
      "text/plain": [
       "<Figure size 432x288 with 1 Axes>"
      ]
     },
     "metadata": {
      "needs_background": "light"
     },
     "output_type": "display_data"
    }
   ],
   "source": [
    "sns.countplot(x='sentiment_label', data = dfMultiClass)"
   ]
  },
  {
   "cell_type": "markdown",
   "metadata": {},
   "source": [
    "## 2. Train, test split function"
   ]
  },
  {
   "cell_type": "markdown",
   "metadata": {},
   "source": [
    "Creamos una funcion para dividir en train y test, procurando que esten bien balanceadas (mismo número de negativas y positivas para clasificacion binaria y mismo número de negativas, positivas y neutrales para clasificación múltiple)"
   ]
  },
  {
   "cell_type": "code",
   "execution_count": 189,
   "metadata": {},
   "outputs": [],
   "source": [
    "def trainTestSplit (data, processed = False):\n",
    "    if processed == True:\n",
    "        return(train_test_split(\n",
    "        data['reviewProcessed'],\n",
    "        data['sentiment_label'],\n",
    "        train_size=0.75,\n",
    "        test_size=0.25,\n",
    "        random_state=42,\n",
    "        shuffle=True\n",
    "        ))\n",
    "    else:\n",
    "        return(train_test_split(\n",
    "        data['reviewText'],\n",
    "        data['sentiment_label'],\n",
    "        train_size=0.75,\n",
    "        test_size=0.25,\n",
    "        random_state=42,\n",
    "        shuffle=True\n",
    "        ))"
   ]
  },
  {
   "cell_type": "markdown",
   "metadata": {},
   "source": [
    "## 3. Clasificación Binaria."
   ]
  },
  {
   "cell_type": "markdown",
   "metadata": {},
   "source": [
    "### 3.1 Clasificación Binaria Sin preprocesado."
   ]
  },
  {
   "cell_type": "markdown",
   "metadata": {},
   "source": [
    "\n",
    "Ahora que ya tenemos preparado nuestro dataset, podemos centrarnos en como abordar la resolución para la clasificación binaria.\n",
    "\n",
    "Para ello usaremos el método TF-IDF Vectorizer. \n",
    "Este clasificador, no puede procesar directamente los reviews de texto en su forma original, si no vectores de características numéricas.\n",
    "Para ello usaremos el modelo de la bolsa de palabras, donde para cada review, se tiene en cuenta la presencia y frecuencia de palabras, pero se ignora el contexto.\n",
    "\n",
    "Vamos a ello!"
   ]
  },
  {
   "cell_type": "markdown",
   "metadata": {},
   "source": [
    "#### 3.1.0 Dividimos en train y test"
   ]
  },
  {
   "cell_type": "code",
   "execution_count": 190,
   "metadata": {},
   "outputs": [],
   "source": [
    "X_train, X_test, y_train, y_test = trainTestSplit(df)"
   ]
  },
  {
   "cell_type": "code",
   "execution_count": 191,
   "metadata": {
    "scrolled": true
   },
   "outputs": [
    {
     "data": {
      "text/plain": [
       "<matplotlib.axes._subplots.AxesSubplot at 0x28ceb795b48>"
      ]
     },
     "execution_count": 191,
     "metadata": {},
     "output_type": "execute_result"
    },
    {
     "data": {
      "image/png": "[encoded data removed]",
      "text/plain": [
       "<Figure size 432x288 with 1 Axes>"
      ]
     },
     "metadata": {
      "needs_background": "light"
     },
     "output_type": "display_data"
    }
   ],
   "source": [
    "sns.countplot(x= y_train)"
   ]
  },
  {
   "cell_type": "markdown",
   "metadata": {},
   "source": [
    "Como se puede comprobar, nuestro conjunto de train esta bien balanceado, por consiguiente, test también lo estará."
   ]
  },
  {
   "cell_type": "markdown",
   "metadata": {},
   "source": [
    "#### 3.1.1 TfidfVectorizar"
   ]
  },
  {
   "cell_type": "code",
   "execution_count": 192,
   "metadata": {},
   "outputs": [
    {
     "data": {
      "text/plain": [
       "TfidfVectorizer(analyzer='word', binary=False, decode_error='strict',\n",
       "                dtype=<class 'numpy.float64'>, encoding='utf-8',\n",
       "                input='content', lowercase=True, max_df=1.0, max_features=None,\n",
       "                min_df=1, ngram_range=(1, 1), norm='l2', preprocessor=None,\n",
       "                smooth_idf=True, stop_words=None, strip_accents=None,\n",
       "                sublinear_tf=False, token_pattern='(?u)\\\\b\\\\w\\\\w+\\\\b',\n",
       "                tokenizer=None, use_idf=True, vocabulary=None)"
      ]
     },
     "execution_count": 192,
     "metadata": {},
     "output_type": "execute_result"
    }
   ],
   "source": [
    "cv_sinProcesado = TfidfVectorizer()\n",
    "cv_sinProcesado.fit(X_train)\n"
   ]
  },
  {
   "cell_type": "code",
   "execution_count": null,
   "metadata": {},
   "outputs": [],
   "source": [
    "Una muestra de nuestra BoW"
   ]
  },
  {
   "cell_type": "code",
   "execution_count": 193,
   "metadata": {},
   "outputs": [
    {
     "name": "stdout",
     "output_type": "stream",
     "text": [
      "[('got', 15735), ('to', 35715), ('see', 30776), ('peter', 25830), ('molyneux', 22597), ('demonstrate', 9961), ('and', 2616), ('explain', 13084), ('black', 4740), ('white', 38695), ('in', 18041), ('person', 25762), ('at', 3377), ('mit', 22437), ('february', 13560), ('of', 24179), ('2000', 417), ('was', 38285), ('intrigued', 18806), ('by', 5889)]\n"
     ]
    }
   ],
   "source": [
    "print(list(cv_sinProcesado.vocabulary_.items())[:20])"
   ]
  },
  {
   "cell_type": "code",
   "execution_count": 194,
   "metadata": {},
   "outputs": [
    {
     "name": "stdout",
     "output_type": "stream",
     "text": [
      "39626\n"
     ]
    }
   ],
   "source": [
    "print(len(cv_sinProcesado.vocabulary_))"
   ]
  },
  {
   "cell_type": "code",
   "execution_count": 195,
   "metadata": {},
   "outputs": [],
   "source": [
    "X_train_tfidf_sinProcesado =cv_sinProcesado.transform(X_train)\n",
    "X_test_tfidf_sinProcesado = cv_sinProcesado.transform(X_test)"
   ]
  },
  {
   "cell_type": "markdown",
   "metadata": {},
   "source": [
    "#### 3.1.2 Regresión Logística"
   ]
  },
  {
   "cell_type": "markdown",
   "metadata": {},
   "source": [
    "Calculamos que parametro nos da una mayor accuracy"
   ]
  },
  {
   "cell_type": "code",
   "execution_count": 196,
   "metadata": {},
   "outputs": [
    {
     "name": "stdout",
     "output_type": "stream",
     "text": [
      "Accuracy for C=0.01: 0.8046666666666666\n",
      "Accuracy for C=0.05: 0.8238333333333333\n",
      "Accuracy for C=0.25: 0.8511666666666666\n",
      "Accuracy for C=0.5: 0.8586666666666667\n",
      "Accuracy for C=1: 0.8638333333333333\n",
      "Accuracy for C=10: 0.8696666666666667\n",
      "Accuracy for C=100: 0.8555\n",
      "Accuracy for C=1000: 0.849\n",
      "Accuracy for C=10000: 0.8438333333333333\n"
     ]
    }
   ],
   "source": [
    "c_params = [0.01, 0.05, 0.25, 0.5, 1, 10, 100, 1000, 10000]\n",
    "\n",
    "train_acc = list()\n",
    "test_acc = list()\n",
    "for c in c_params:\n",
    "    lr = LogisticRegression(C=c, solver='lbfgs', max_iter=1500)\n",
    "    lr.fit(X_train_tfidf_sinProcesado, y_train)\n",
    "    \n",
    "    train_predict = lr.predict(X_train_tfidf_sinProcesado)\n",
    "    test_predict = lr.predict(X_test_tfidf_sinProcesado)\n",
    "    \n",
    "    print (\"Accuracy for C={}: {}\".format(c, accuracy_score(y_test, test_predict)))\n",
    "    \n",
    "    train_acc.append(accuracy_score(y_train, train_predict))\n",
    "    test_acc.append(accuracy_score(y_test, test_predict))"
   ]
  },
  {
   "cell_type": "markdown",
   "metadata": {},
   "source": [
    "Entrenamos el modelo para c= 10"
   ]
  },
  {
   "cell_type": "code",
   "execution_count": 197,
   "metadata": {},
   "outputs": [],
   "source": [
    "lr_tfidf_sinProcesado = LogisticRegression(C=10, solver='lbfgs', max_iter=1500)\n",
    "\n",
    "lr_tfidf_sinProcesado.fit(X_train_tfidf_sinProcesado, y_train)  # train\n",
    "\n",
    "y_pred_tfidf_sinProcesado = lr_tfidf_sinProcesado.predict(X_test_tfidf_sinProcesado)  # test\n"
   ]
  },
  {
   "cell_type": "markdown",
   "metadata": {},
   "source": [
    "#### 3.1.3 Resultado"
   ]
  },
  {
   "cell_type": "code",
   "execution_count": 199,
   "metadata": {},
   "outputs": [
    {
     "name": "stdout",
     "output_type": "stream",
     "text": [
      "TfIdfVectorizer sin preprocesado\n",
      "\n",
      "Confussion matrix:\n",
      "[[2617  373]\n",
      " [ 409 2601]]\n",
      "\n",
      "Classification report:\n",
      "              precision    recall  f1-score   support\n",
      "\n",
      "           0       0.86      0.88      0.87      2990\n",
      "           1       0.87      0.86      0.87      3010\n",
      "\n",
      "    accuracy                           0.87      6000\n",
      "   macro avg       0.87      0.87      0.87      6000\n",
      "weighted avg       0.87      0.87      0.87      6000\n",
      "\n",
      "Accuracy score:0.8696666666666667\n"
     ]
    }
   ],
   "source": [
    "print('TfIdfVectorizer sin preprocesado\\n')\n",
    "print('Confussion matrix:\\n{}'.format(confusion_matrix(y_test, y_pred_tfidf_sinProcesado)))\n",
    "print('\\nClassification report:\\n{}'.format(classification_report(y_test, y_pred_tfidf_sinProcesado)))\n",
    "print('Accuracy score:{}'.format(accuracy_score(y_test, y_pred_tfidf_sinProcesado)))\n"
   ]
  },
  {
   "cell_type": "markdown",
   "metadata": {},
   "source": [
    "Comete algunos errores, pero en general predice bastante bien los reviews.\n",
    "Si nos fijamos en el recall, y recordemos que el 0 es para las negativas y el 1 para las positivas, predice mejor los reviews negativos que los positivos."
   ]
  },
  {
   "cell_type": "markdown",
   "metadata": {},
   "source": [
    "### 3.2 Con preprocesado."
   ]
  },
  {
   "cell_type": "markdown",
   "metadata": {},
   "source": [
    "#### 3.2.1 Procesado"
   ]
  },
  {
   "cell_type": "markdown",
   "metadata": {},
   "source": [
    "Realizaremos los siguientes:\n",
    "\n",
    "- Tokenización: dividir el texto en oraciones y las oraciones en palabras.\n",
    "- Poner en minúsculas las palabras y eliminar la puntuación.\n",
    "- Se eliminan las palabras que tienen menos de 2 caracteres.\n",
    "- Todas las palabras vacías se eliminan.\n",
    "- Lematización: las palabras en 3ª persona se cambian a 1ª, y los verbos en tiempo pasado y futuro se cambian a presente.\n",
    "- Eliminaremos las url.\n",
    "\n",
    "Para ello, utilizamos gensim para eliminar los stopwords, y las palabras con un len inferior a 3. Así que en esta primera iteración empezaremos con esta opción.\n",
    "\n",
    "Usaremos lemmatizer para pasar eliminar las mayúsculas, los plurales y los signos de puntuación. Y stemmer para poner los verbos en presente y pasar de 3ª persona a 1ª.\n",
    "\n",
    "Para eliminar las url, usaremos la expresión regular (re)."
   ]
  },
  {
   "cell_type": "code",
   "execution_count": 200,
   "metadata": {},
   "outputs": [],
   "source": [
    "wordnet_lemmatizer = WordNetLemmatizer()\n",
    "\n",
    "def deleteUrl(text):\n",
    "    text = re.sub(r\"http\\S+\", \"\", text)\n",
    "    return text\n",
    "\n",
    "def preprocess(text):\n",
    "    result = []\n",
    "    text = deleteUrl(text)\n",
    "    for token in gensim.utils.simple_preprocess(text):\n",
    "        if token not in gensim.parsing.preprocessing.STOPWORDS and len(token) > 3:\n",
    "            result.append(wordnet_lemmatizer.lemmatize(token, pos=\"v\"))\n",
    "    return result"
   ]
  },
  {
   "cell_type": "code",
   "execution_count": 201,
   "metadata": {},
   "outputs": [
    {
     "name": "stdout",
     "output_type": "stream",
     "text": [
      "Original text:\n",
      "For $12.92 I did not expect much and that is exactly what I got - not much. I had been using a small bowl of water with a few drops of liquid soap that I placed under a night light and changed every few days. Nothing wrong with this method except that I thought it would be nice if I only had to do something every 3 - 4 weeks as claimed by Victor. As expected, the flea trap is made of about one or two cents worth of very thin plastic. There are two parts to the trap. The bottom part is for installing the sticky pad. Good luck with that. The top part holds the night light. Placing the top onto the bottom leaves it somewhat cock-eyed due to lame construction. I placed the trap on the floor away from my dog's reach and plugged in the power cord. The small bulb gives out a surprisingly bright light for its size. The word in the local flea community is \"stay away from this bright light because you may accidently step on a sticky pad\". The fleas in this area all heeded that advice.I decided that I would go back to using a bowl of soapy water for a couple of reasons. First, the fleas do not want to step on the sticky pad. Secondly, it makes for a very poor night light because of the brightness and because it is more bulky with the trap and the cord than a regular night light that just plugs into a socket. If this would have worked it would be a good deal. The cost of the plastic is probably a couple cents, at most, plus a few more cents for the cord and bulb and then there is the cost of the boat ride over here from China. Add in the two discs that are included and you have a potential flea solution for a very good price. The problem is that it does not work for me.\n",
      "\n",
      "\n",
      "Processed text:\n",
      "['expect', 'exactly', 'small', 'bowl', 'water', 'drop', 'liquid', 'soap', 'place', 'night', 'light', 'change', 'days', 'wrong', 'method', 'think', 'nice', 'weeks', 'claim', 'victor', 'expect', 'flea', 'trap', 'cents', 'worth', 'plastic', 'part', 'trap', 'instal', 'sticky', 'good', 'luck', 'hold', 'night', 'light', 'place', 'leave', 'somewhat', 'cock', 'eye', 'lame', 'construction', 'place', 'trap', 'floor', 'away', 'reach', 'plug', 'power', 'cord', 'small', 'bulb', 'give', 'surprisingly', 'bright', 'light', 'size', 'word', 'local', 'flea', 'community', 'stay', 'away', 'bright', 'light', 'accidently', 'step', 'sticky', 'fleas', 'area', 'heed', 'advice', 'decide', 'bowl', 'soapy', 'water', 'couple', 'reason', 'fleas', 'want', 'step', 'sticky', 'secondly', 'make', 'poor', 'night', 'light', 'brightness', 'bulky', 'trap', 'cord', 'regular', 'night', 'light', 'plug', 'socket', 'work', 'good', 'deal', 'cost', 'plastic', 'probably', 'couple', 'cents', 'plus', 'cents', 'cord', 'bulb', 'cost', 'boat', 'ride', 'china', 'discs', 'include', 'potential', 'flea', 'solution', 'good', 'price', 'problem', 'work']\n"
     ]
    }
   ],
   "source": [
    "print('Original text:\\n{}\\n\\n'.format(df['reviewText'][0]))\n",
    "print('Processed text:\\n{}'.format(preprocess(df['reviewText'][0])))"
   ]
  },
  {
   "cell_type": "markdown",
   "metadata": {},
   "source": [
    "Como podemos observar, el preprocesado funcionas bastante bien, así que vamos a aplicarlo a nuestro dataset."
   ]
  },
  {
   "cell_type": "code",
   "execution_count": 202,
   "metadata": {},
   "outputs": [],
   "source": [
    "processed_texts = []\n",
    "separator = ', '\n",
    "for text in df['reviewText']:\n",
    "    processed_texts.append(separator.join(preprocess(text)))"
   ]
  },
  {
   "cell_type": "markdown",
   "metadata": {},
   "source": [
    "Añadimos las reviews procesadas a nuestro dataframe"
   ]
  },
  {
   "cell_type": "code",
   "execution_count": 203,
   "metadata": {
    "scrolled": true
   },
   "outputs": [
    {
     "data": {
      "text/html": [
       "<div>\n",
       "<style scoped>\n",
       "    .dataframe tbody tr th:only-of-type {\n",
       "        vertical-align: middle;\n",
       "    }\n",
       "\n",
       "    .dataframe tbody tr th {\n",
       "        vertical-align: top;\n",
       "    }\n",
       "\n",
       "    .dataframe thead th {\n",
       "        text-align: right;\n",
       "    }\n",
       "</style>\n",
       "<table border=\"1\" class=\"dataframe\">\n",
       "  <thead>\n",
       "    <tr style=\"text-align: right;\">\n",
       "      <th></th>\n",
       "      <th>reviewText</th>\n",
       "      <th>sentiment_label</th>\n",
       "      <th>reviewProcessed</th>\n",
       "    </tr>\n",
       "  </thead>\n",
       "  <tbody>\n",
       "    <tr>\n",
       "      <td>0</td>\n",
       "      <td>For $12.92 I did not expect much and that is e...</td>\n",
       "      <td>0</td>\n",
       "      <td>expect, exactly, small, bowl, water, drop, liq...</td>\n",
       "    </tr>\n",
       "    <tr>\n",
       "      <td>1</td>\n",
       "      <td>This salt was way too intense for me.  I had b...</td>\n",
       "      <td>0</td>\n",
       "      <td>salt, intense, brand, packets, work, great, ha...</td>\n",
       "    </tr>\n",
       "    <tr>\n",
       "      <td>2</td>\n",
       "      <td>I don't know if it's the &amp;#34;Oaken&amp;#34; or so...</td>\n",
       "      <td>0</td>\n",
       "      <td>know, oaken, botanicals, combination, stuff, a...</td>\n",
       "    </tr>\n",
       "    <tr>\n",
       "      <td>3</td>\n",
       "      <td>This is a review for the 4 ounce Avon SKIN-SO-...</td>\n",
       "      <td>0</td>\n",
       "      <td>review, ounce, avon, skin, soft, guard, plus, ...</td>\n",
       "    </tr>\n",
       "    <tr>\n",
       "      <td>4</td>\n",
       "      <td>This is the worst game of its type.  Save your...</td>\n",
       "      <td>0</td>\n",
       "      <td>worst, game, type, save, money, graphics, year...</td>\n",
       "    </tr>\n",
       "    <tr>\n",
       "      <td>...</td>\n",
       "      <td>...</td>\n",
       "      <td>...</td>\n",
       "      <td>...</td>\n",
       "    </tr>\n",
       "    <tr>\n",
       "      <td>23995</td>\n",
       "      <td>Simple....effective...nothing fancy...works fi...</td>\n",
       "      <td>1</td>\n",
       "      <td>simple, effective, fancy, work, fine</td>\n",
       "    </tr>\n",
       "    <tr>\n",
       "      <td>23996</td>\n",
       "      <td>So cute, organizes the closet so I can easily ...</td>\n",
       "      <td>1</td>\n",
       "      <td>cute, organize, closet, easily, certain, size,...</td>\n",
       "    </tr>\n",
       "    <tr>\n",
       "      <td>23997</td>\n",
       "      <td>It is it is. Nothing special about the divider...</td>\n",
       "      <td>1</td>\n",
       "      <td>special, dividers, stickers, reuse, size, larger</td>\n",
       "    </tr>\n",
       "    <tr>\n",
       "      <td>23998</td>\n",
       "      <td>These look great in the closet and do what the...</td>\n",
       "      <td>1</td>\n",
       "      <td>look, great, closet, organize, clothe, size, e...</td>\n",
       "    </tr>\n",
       "    <tr>\n",
       "      <td>23999</td>\n",
       "      <td>All my daughter's furniture is a variety of De...</td>\n",
       "      <td>1</td>\n",
       "      <td>daughter, furniture, variety, delta, children,...</td>\n",
       "    </tr>\n",
       "  </tbody>\n",
       "</table>\n",
       "<p>24000 rows × 3 columns</p>\n",
       "</div>"
      ],
      "text/plain": [
       "                                              reviewText  sentiment_label  \\\n",
       "0      For $12.92 I did not expect much and that is e...                0   \n",
       "1      This salt was way too intense for me.  I had b...                0   \n",
       "2      I don't know if it's the &#34;Oaken&#34; or so...                0   \n",
       "3      This is a review for the 4 ounce Avon SKIN-SO-...                0   \n",
       "4      This is the worst game of its type.  Save your...                0   \n",
       "...                                                  ...              ...   \n",
       "23995  Simple....effective...nothing fancy...works fi...                1   \n",
       "23996  So cute, organizes the closet so I can easily ...                1   \n",
       "23997  It is it is. Nothing special about the divider...                1   \n",
       "23998  These look great in the closet and do what the...                1   \n",
       "23999  All my daughter's furniture is a variety of De...                1   \n",
       "\n",
       "                                         reviewProcessed  \n",
       "0      expect, exactly, small, bowl, water, drop, liq...  \n",
       "1      salt, intense, brand, packets, work, great, ha...  \n",
       "2      know, oaken, botanicals, combination, stuff, a...  \n",
       "3      review, ounce, avon, skin, soft, guard, plus, ...  \n",
       "4      worst, game, type, save, money, graphics, year...  \n",
       "...                                                  ...  \n",
       "23995               simple, effective, fancy, work, fine  \n",
       "23996  cute, organize, closet, easily, certain, size,...  \n",
       "23997   special, dividers, stickers, reuse, size, larger  \n",
       "23998  look, great, closet, organize, clothe, size, e...  \n",
       "23999  daughter, furniture, variety, delta, children,...  \n",
       "\n",
       "[24000 rows x 3 columns]"
      ]
     },
     "execution_count": 203,
     "metadata": {},
     "output_type": "execute_result"
    }
   ],
   "source": [
    "df['reviewProcessed'] = processed_texts\n",
    "df"
   ]
  },
  {
   "cell_type": "markdown",
   "metadata": {},
   "source": [
    "Eliminamos la columna reviewText"
   ]
  },
  {
   "cell_type": "code",
   "execution_count": 204,
   "metadata": {},
   "outputs": [
    {
     "data": {
      "text/html": [
       "<div>\n",
       "<style scoped>\n",
       "    .dataframe tbody tr th:only-of-type {\n",
       "        vertical-align: middle;\n",
       "    }\n",
       "\n",
       "    .dataframe tbody tr th {\n",
       "        vertical-align: top;\n",
       "    }\n",
       "\n",
       "    .dataframe thead th {\n",
       "        text-align: right;\n",
       "    }\n",
       "</style>\n",
       "<table border=\"1\" class=\"dataframe\">\n",
       "  <thead>\n",
       "    <tr style=\"text-align: right;\">\n",
       "      <th></th>\n",
       "      <th>sentiment_label</th>\n",
       "      <th>reviewProcessed</th>\n",
       "    </tr>\n",
       "  </thead>\n",
       "  <tbody>\n",
       "    <tr>\n",
       "      <td>0</td>\n",
       "      <td>0</td>\n",
       "      <td>expect, exactly, small, bowl, water, drop, liq...</td>\n",
       "    </tr>\n",
       "    <tr>\n",
       "      <td>1</td>\n",
       "      <td>0</td>\n",
       "      <td>salt, intense, brand, packets, work, great, ha...</td>\n",
       "    </tr>\n",
       "    <tr>\n",
       "      <td>2</td>\n",
       "      <td>0</td>\n",
       "      <td>know, oaken, botanicals, combination, stuff, a...</td>\n",
       "    </tr>\n",
       "    <tr>\n",
       "      <td>3</td>\n",
       "      <td>0</td>\n",
       "      <td>review, ounce, avon, skin, soft, guard, plus, ...</td>\n",
       "    </tr>\n",
       "    <tr>\n",
       "      <td>4</td>\n",
       "      <td>0</td>\n",
       "      <td>worst, game, type, save, money, graphics, year...</td>\n",
       "    </tr>\n",
       "    <tr>\n",
       "      <td>...</td>\n",
       "      <td>...</td>\n",
       "      <td>...</td>\n",
       "    </tr>\n",
       "    <tr>\n",
       "      <td>23995</td>\n",
       "      <td>1</td>\n",
       "      <td>simple, effective, fancy, work, fine</td>\n",
       "    </tr>\n",
       "    <tr>\n",
       "      <td>23996</td>\n",
       "      <td>1</td>\n",
       "      <td>cute, organize, closet, easily, certain, size,...</td>\n",
       "    </tr>\n",
       "    <tr>\n",
       "      <td>23997</td>\n",
       "      <td>1</td>\n",
       "      <td>special, dividers, stickers, reuse, size, larger</td>\n",
       "    </tr>\n",
       "    <tr>\n",
       "      <td>23998</td>\n",
       "      <td>1</td>\n",
       "      <td>look, great, closet, organize, clothe, size, e...</td>\n",
       "    </tr>\n",
       "    <tr>\n",
       "      <td>23999</td>\n",
       "      <td>1</td>\n",
       "      <td>daughter, furniture, variety, delta, children,...</td>\n",
       "    </tr>\n",
       "  </tbody>\n",
       "</table>\n",
       "<p>24000 rows × 2 columns</p>\n",
       "</div>"
      ],
      "text/plain": [
       "       sentiment_label                                    reviewProcessed\n",
       "0                    0  expect, exactly, small, bowl, water, drop, liq...\n",
       "1                    0  salt, intense, brand, packets, work, great, ha...\n",
       "2                    0  know, oaken, botanicals, combination, stuff, a...\n",
       "3                    0  review, ounce, avon, skin, soft, guard, plus, ...\n",
       "4                    0  worst, game, type, save, money, graphics, year...\n",
       "...                ...                                                ...\n",
       "23995                1               simple, effective, fancy, work, fine\n",
       "23996                1  cute, organize, closet, easily, certain, size,...\n",
       "23997                1   special, dividers, stickers, reuse, size, larger\n",
       "23998                1  look, great, closet, organize, clothe, size, e...\n",
       "23999                1  daughter, furniture, variety, delta, children,...\n",
       "\n",
       "[24000 rows x 2 columns]"
      ]
     },
     "execution_count": 204,
     "metadata": {},
     "output_type": "execute_result"
    }
   ],
   "source": [
    "del(df['reviewText'])\n",
    "df"
   ]
  },
  {
   "cell_type": "markdown",
   "metadata": {},
   "source": [
    "#### 3.2.2 Separamos en train y test"
   ]
  },
  {
   "cell_type": "code",
   "execution_count": 205,
   "metadata": {},
   "outputs": [],
   "source": [
    "X_trainProcessed, X_testProcessed, y_trainProcessed, y_testProcessed = trainTestSplit(df, True)"
   ]
  },
  {
   "cell_type": "code",
   "execution_count": 206,
   "metadata": {},
   "outputs": [
    {
     "data": {
      "text/plain": [
       "<matplotlib.axes._subplots.AxesSubplot at 0x28ce9a89908>"
      ]
     },
     "execution_count": 206,
     "metadata": {},
     "output_type": "execute_result"
    },
    {
     "data": {
      "image/png": "[encoded data removed]",
      "text/plain": [
       "<Figure size 432x288 with 1 Axes>"
      ]
     },
     "metadata": {
      "needs_background": "light"
     },
     "output_type": "display_data"
    }
   ],
   "source": [
    "sns.countplot(x= y_trainProcessed)"
   ]
  },
  {
   "cell_type": "markdown",
   "metadata": {},
   "source": [
    "Como se puede comprobar, nuestro conjunto de train esta bien balanceado, por consiguiente, test también lo estará."
   ]
  },
  {
   "cell_type": "markdown",
   "metadata": {},
   "source": [
    "#### 3.2.3 TfidfVectorizer"
   ]
  },
  {
   "cell_type": "code",
   "execution_count": 207,
   "metadata": {},
   "outputs": [
    {
     "data": {
      "text/plain": [
       "TfidfVectorizer(analyzer='word', binary=False, decode_error='strict',\n",
       "                dtype=<class 'numpy.float64'>, encoding='utf-8',\n",
       "                input='content', lowercase=True, max_df=0.95, max_features=5000,\n",
       "                min_df=5, ngram_range=(1, 3), norm='l2', preprocessor=None,\n",
       "                smooth_idf=True, stop_words=None, strip_accents=None,\n",
       "                sublinear_tf=False, token_pattern='(?u)\\\\b\\\\w\\\\w+\\\\b',\n",
       "                tokenizer=None, use_idf=True, vocabulary=None)"
      ]
     },
     "execution_count": 207,
     "metadata": {},
     "output_type": "execute_result"
    }
   ],
   "source": [
    "cv = TfidfVectorizer(\n",
    "    max_df=0.95,\n",
    "    min_df=5,\n",
    "    max_features=5000,\n",
    "    ngram_range=(1, 3)\n",
    ")\n",
    "cv.fit(X_trainProcessed)"
   ]
  },
  {
   "cell_type": "code",
   "execution_count": 208,
   "metadata": {},
   "outputs": [],
   "source": [
    "X_train_tfidf_Processed = cv.transform(X_trainProcessed)\n",
    "X_test_tfidf_Processed = cv.transform(X_testProcessed)"
   ]
  },
  {
   "cell_type": "markdown",
   "metadata": {},
   "source": [
    "#### 3.2.4 Regresión Logística"
   ]
  },
  {
   "cell_type": "markdown",
   "metadata": {},
   "source": [
    "Calculamos que parametro nos da una mayor accuracy"
   ]
  },
  {
   "cell_type": "code",
   "execution_count": 241,
   "metadata": {},
   "outputs": [
    {
     "name": "stdout",
     "output_type": "stream",
     "text": [
      "Accuracy for C=0.01: 0.8003333333333333\n",
      "Accuracy for C=0.05: 0.8155\n",
      "Accuracy for C=0.25: 0.8325\n",
      "Accuracy for C=0.5: 0.8401666666666666\n",
      "Accuracy for C=1: 0.843\n",
      "Accuracy for C=10: 0.8395\n",
      "Accuracy for C=100: 0.8195\n",
      "Accuracy for C=1000: 0.7948333333333333\n",
      "Accuracy for C=10000: 0.7773333333333333\n"
     ]
    }
   ],
   "source": [
    "c_params = [0.01, 0.05, 0.25, 0.5, 1, 10, 100, 1000, 10000]\n",
    "\n",
    "train_acc_Processed = list()\n",
    "test_acc_Processed = list()\n",
    "for c in c_params:\n",
    "    lrProcessed = LogisticRegression(C=c, solver='lbfgs', max_iter=2500)\n",
    "    lrProcessed.fit(X_train_tfidf_Processed, y_trainProcessed)\n",
    "    \n",
    "    train_predict_Processed = lrProcessed.predict(X_train_tfidf_Processed)\n",
    "    test_predict_Processed = lrProcessed.predict(X_test_tfidf_Processed)\n",
    "    \n",
    "    print (\"Accuracy for C={}: {}\".format(c, accuracy_score(y_testProcessed, test_predict_Processed)))\n",
    "    \n",
    "    train_acc_Processed.append(accuracy_score(y_trainProcessed, train_predict_Processed))\n",
    "    test_acc_Processed.append(accuracy_score(y_testProcessed, test_predict_Processed))"
   ]
  },
  {
   "cell_type": "markdown",
   "metadata": {},
   "source": [
    "Entrenamos para c=1\n"
   ]
  },
  {
   "cell_type": "code",
   "execution_count": 242,
   "metadata": {},
   "outputs": [
    {
     "name": "stdout",
     "output_type": "stream",
     "text": [
      "Accuracy for C=1: 0.843\n"
     ]
    }
   ],
   "source": [
    "c = 1\n",
    "\n",
    "\n",
    "lrProcessed = LogisticRegression(C=c, solver='lbfgs', max_iter=2500)\n",
    "lrProcessed.fit(X_train_tfidf_Processed, y_trainProcessed)\n",
    "\n",
    "\n",
    "test_predict_Processed = lrProcessed.predict(X_test_tfidf_Processed)\n",
    "\n",
    "print (\"Accuracy for C={}: {}\".format(c, accuracy_score(y_testProcessed, test_predict_Processed)))\n",
    "\n"
   ]
  },
  {
   "cell_type": "markdown",
   "metadata": {},
   "source": [
    "#### 3.2.5 Resultado"
   ]
  },
  {
   "cell_type": "code",
   "execution_count": 243,
   "metadata": {},
   "outputs": [
    {
     "name": "stdout",
     "output_type": "stream",
     "text": [
      "TfIdfVectorizer con preprocesado\n",
      "\n",
      "Confussion matrix:\n",
      "[[2510  480]\n",
      " [ 462 2548]]\n",
      "\n",
      "Classification report:\n",
      "              precision    recall  f1-score   support\n",
      "\n",
      "           0       0.84      0.84      0.84      2990\n",
      "           1       0.84      0.85      0.84      3010\n",
      "\n",
      "    accuracy                           0.84      6000\n",
      "   macro avg       0.84      0.84      0.84      6000\n",
      "weighted avg       0.84      0.84      0.84      6000\n",
      "\n",
      "Accuracy score:0.843\n"
     ]
    }
   ],
   "source": [
    "print('TfIdfVectorizer con preprocesado\\n')\n",
    "print('Confussion matrix:\\n{}'.format(confusion_matrix(y_testProcessed, test_predict_Processed)))\n",
    "print('\\nClassification report:\\n{}'.format(classification_report(y_testProcessed, test_predict_Processed)))\n",
    "print('Accuracy score:{}'.format(accuracy_score(y_testProcessed, test_predict_Processed)))"
   ]
  },
  {
   "cell_type": "markdown",
   "metadata": {},
   "source": [
    "Observemos que al aplicarle un procesado al texto, el modelo predice peor, y si nos fijamos, en esta ocasión, predice mejor los sentimiento positivos que los negativos.\n",
    "Quizás deberíamos observar el top10 de la BoW de cada uno, y probablemente, en una predominarían las de lenguaje negativo y en la otra la del positivo"
   ]
  },
  {
   "cell_type": "markdown",
   "metadata": {},
   "source": [
    "## 4. Clasificación multiclase."
   ]
  },
  {
   "cell_type": "markdown",
   "metadata": {},
   "source": [
    "Para esta parte del ejercicio, seguiremos la misma metodología empleada hasta ahora, pero en lugar de usa como modelo de parendizaje supervisado la Regresión Logística, en esta ocasión, usaremos Árboles de Decisiones, Bagging y Random Forest Classifier\n",
    "\n",
    "\n",
    "\n",
    "Bagging construye múltiples árboles de decisión haciendo repetidamente remuestreo de los datos de entrenamiento con sustitución, y votando los árboles para hallar una predicción de consenso.\n",
    "El clasificador Random Forest utiliza una serie de árboles de decisión, con el fin de mejorar la tasa de clasificación."
   ]
  },
  {
   "cell_type": "code",
   "execution_count": null,
   "metadata": {},
   "outputs": [],
   "source": []
  },
  {
   "cell_type": "markdown",
   "metadata": {},
   "source": [
    "### 4.1 Sin preprocesado."
   ]
  },
  {
   "cell_type": "markdown",
   "metadata": {},
   "source": [
    "#### 4.1.1 Dividimos en train y test"
   ]
  },
  {
   "cell_type": "code",
   "execution_count": 247,
   "metadata": {},
   "outputs": [],
   "source": [
    "XMultiClass_train, XMultiClass_test, yMultiClass_train, yMultiClass_test = trainTestSplit(dfMultiClass)"
   ]
  },
  {
   "cell_type": "code",
   "execution_count": 248,
   "metadata": {},
   "outputs": [
    {
     "data": {
      "text/plain": [
       "<matplotlib.axes._subplots.AxesSubplot at 0x28ce7fefb08>"
      ]
     },
     "execution_count": 248,
     "metadata": {},
     "output_type": "execute_result"
    },
    {
     "data": {
      "image/png": "[encoded data removed]",
      "text/plain": [
       "<Figure size 432x288 with 1 Axes>"
      ]
     },
     "metadata": {
      "needs_background": "light"
     },
     "output_type": "display_data"
    }
   ],
   "source": [
    "sns.countplot(x= yMultiClass_train)"
   ]
  },
  {
   "cell_type": "markdown",
   "metadata": {},
   "source": [
    "Como se puede comprobar, nuestro conjunto de train esta bien balanceado, por consiguiente, test también lo estará."
   ]
  },
  {
   "cell_type": "markdown",
   "metadata": {},
   "source": [
    "#### 4.1.2 TfidfVectorizer Clasificación Multiple y Sin Preprocesado"
   ]
  },
  {
   "cell_type": "code",
   "execution_count": 249,
   "metadata": {},
   "outputs": [
    {
     "data": {
      "text/plain": [
       "TfidfVectorizer(analyzer='word', binary=False, decode_error='strict',\n",
       "                dtype=<class 'numpy.float64'>, encoding='utf-8',\n",
       "                input='content', lowercase=True, max_df=1.0, max_features=None,\n",
       "                min_df=1, ngram_range=(1, 1), norm='l2', preprocessor=None,\n",
       "                smooth_idf=True, stop_words=None, strip_accents=None,\n",
       "                sublinear_tf=False, token_pattern='(?u)\\\\b\\\\w\\\\w+\\\\b',\n",
       "                tokenizer=None, use_idf=True, vocabulary=None)"
      ]
     },
     "execution_count": 249,
     "metadata": {},
     "output_type": "execute_result"
    }
   ],
   "source": [
    "cvMultiClass_sinProcesado = TfidfVectorizer()\n",
    "cvMultiClass_sinProcesado.fit(XMultiClass_train)\n"
   ]
  },
  {
   "cell_type": "markdown",
   "metadata": {},
   "source": [
    "Una muestra de nuestra BoW"
   ]
  },
  {
   "cell_type": "code",
   "execution_count": 250,
   "metadata": {},
   "outputs": [
    {
     "name": "stdout",
     "output_type": "stream",
     "text": [
      "[('put', 27823), ('some', 32531), ('of', 24211), ('this', 35516), ('with', 39156), ('my', 23118), ('smoothies', 32265), ('and', 2682), ('sometimes', 32557), ('cereal', 6674), ('doesn', 11186), ('distort', 11042), ('the', 35274), ('flavor', 14154), ('which', 38883), ('is', 19050), ('great', 16101), ('for', 14454), ('me', 21754), ('avoiding', 3702)]\n"
     ]
    }
   ],
   "source": [
    "print(list(cvMultiClass_sinProcesado.vocabulary_.items())[:20])"
   ]
  },
  {
   "cell_type": "code",
   "execution_count": 251,
   "metadata": {},
   "outputs": [
    {
     "name": "stdout",
     "output_type": "stream",
     "text": [
      "39858\n"
     ]
    }
   ],
   "source": [
    "print(len(cvMultiClass_sinProcesado.vocabulary_))"
   ]
  },
  {
   "cell_type": "code",
   "execution_count": 252,
   "metadata": {},
   "outputs": [],
   "source": [
    "XMultiClass_train_tfidf_sinProcesado =cvMultiClass_sinProcesado.transform(XMultiClass_train)\n",
    "XMultiClass_test_tfidf_sinProcesado = cvMultiClass_sinProcesado.transform(XMultiClass_test)"
   ]
  },
  {
   "cell_type": "markdown",
   "metadata": {},
   "source": [
    "#### 4.1.3 Modelo para Clasificación Multiple y Sin Preprocesado"
   ]
  },
  {
   "cell_type": "markdown",
   "metadata": {},
   "source": [
    "Instanciamos el modelo e indicamos el número de árboles que vamos a contruir\n",
    "Primero probaremos que tal funciona con un modelo basado en arboles de decisiones y despues con bagging y random forest"
   ]
  },
  {
   "cell_type": "markdown",
   "metadata": {},
   "source": [
    "#### Arbol de decisiones"
   ]
  },
  {
   "cell_type": "markdown",
   "metadata": {},
   "source": [
    "Optimizamos los parámetros con gridsearch"
   ]
  },
  {
   "cell_type": "code",
   "execution_count": 264,
   "metadata": {},
   "outputs": [
    {
     "name": "stdout",
     "output_type": "stream",
     "text": [
      "best mean cross-validation score: 0.486\n",
      "best parameters: {'max_depth': 12}\n"
     ]
    },
    {
     "data": {
      "image/png": "[encoded data removed]",
      "text/plain": [
       "<Figure size 432x288 with 1 Axes>"
      ]
     },
     "metadata": {
      "needs_background": "light"
     },
     "output_type": "display_data"
    }
   ],
   "source": [
    "from sklearn.model_selection import GridSearchCV\n",
    "\n",
    "maxDepthDT = range(10,40)\n",
    "param_gridDT = {'max_depth': maxDepthDT }\n",
    "gridDT= GridSearchCV(DecisionTreeClassifier(random_state=0), param_grid=param_gridDT, cv = 10)\n",
    "gridDT.fit(XMultiClass_train_tfidf_sinProcesado, yMultiClass_train)\n",
    "print(\"best mean cross-validation score: {:.3f}\".format(gridDT.best_score_))\n",
    "print(\"best parameters: {}\".format(gridDT.best_params_))\n",
    "\n",
    "scores = np.array(gridDT.cv_results_['mean_test_score'])\n",
    "plt.plot(maxDepthDT,scores,'-o')\n",
    "plt.xlabel('max_depth',fontsize=16)\n",
    "plt.ylabel('10-Fold MSE')\n",
    "plt.show()"
   ]
  },
  {
   "cell_type": "code",
   "execution_count": 268,
   "metadata": {},
   "outputs": [
    {
     "name": "stdout",
     "output_type": "stream",
     "text": [
      "Train:  0.6096666666666667\n",
      "Test:  0.48966666666666664\n"
     ]
    }
   ],
   "source": [
    "maxDepthOptimoAD = gridDT.best_params_['max_depth']\n",
    "treeModel = DecisionTreeClassifier(max_depth=maxDepthOptimoAD).fit(XMultiClass_train_tfidf_sinProcesado, yMultiClass_train)\n",
    "\n",
    "print(\"Train: \",treeModel.score(XMultiClass_train_tfidf_sinProcesado, yMultiClass_train))\n",
    "print(\"Test: \",treeModel.score(XMultiClass_test_tfidf_sinProcesado, yMultiClass_test))\n",
    "\n"
   ]
  },
  {
   "cell_type": "markdown",
   "metadata": {},
   "source": [
    "Predecimmos para test"
   ]
  },
  {
   "cell_type": "code",
   "execution_count": 269,
   "metadata": {},
   "outputs": [],
   "source": [
    "test_predictDT = treeModel.predict(XMultiClass_test_tfidf_sinProcesado)"
   ]
  },
  {
   "cell_type": "markdown",
   "metadata": {},
   "source": [
    "#### Resultado"
   ]
  },
  {
   "cell_type": "code",
   "execution_count": 270,
   "metadata": {},
   "outputs": [
    {
     "name": "stdout",
     "output_type": "stream",
     "text": [
      "Arbol de decisiones sin preprocesado\n",
      "\n",
      "--------------------------------------------------\n",
      "Confussion matrix:\n",
      "[[ 747  477  756]\n",
      " [ 276 1111  624]\n",
      " [ 432  497 1080]]\n",
      "\n",
      "Classification report:\n",
      "              precision    recall  f1-score   support\n",
      "\n",
      "           0       0.51      0.38      0.43      1980\n",
      "           1       0.53      0.55      0.54      2011\n",
      "           2       0.44      0.54      0.48      2009\n",
      "\n",
      "    accuracy                           0.49      6000\n",
      "   macro avg       0.50      0.49      0.49      6000\n",
      "weighted avg       0.50      0.49      0.49      6000\n",
      "\n",
      "Accuracy score:0.48966666666666664\n"
     ]
    }
   ],
   "source": [
    "print('Arbol de decisiones sin preprocesado\\n')\n",
    "print('-' * 50)\n",
    "print('Confussion matrix:\\n{}'.format(confusion_matrix(yMultiClass_test, test_predictDT)))\n",
    "print('\\nClassification report:\\n{}'.format(classification_report(yMultiClass_test, test_predictDT)))\n",
    "print('Accuracy score:{}'.format(accuracy_score(yMultiClass_test, test_predictDT)))"
   ]
  },
  {
   "cell_type": "markdown",
   "metadata": {},
   "source": [
    "#### Baggin y Random Forest"
   ]
  },
  {
   "cell_type": "markdown",
   "metadata": {},
   "source": [
    "Optimizamos los parametros con gridSearch"
   ]
  },
  {
   "cell_type": "code",
   "execution_count": 273,
   "metadata": {},
   "outputs": [
    {
     "name": "stdout",
     "output_type": "stream",
     "text": [
      "best mean cross-validation score: 0.620\n",
      "best parameters: {'max_depth': 29}\n"
     ]
    },
    {
     "data": {
      "image/png": "[encoded data removed]",
      "text/plain": [
       "<Figure size 432x288 with 1 Axes>"
      ]
     },
     "metadata": {
      "needs_background": "light"
     },
     "output_type": "display_data"
    }
   ],
   "source": [
    "# grid search\n",
    "maxDepthRF = range(10,30)\n",
    "tuned_parametersRF = {'max_depth': maxDepthRF}\n",
    "\n",
    "gridRF = GridSearchCV(RandomForestClassifier(random_state=0, n_estimators=200, max_features='sqrt'), param_grid=tuned_parametersRF,cv=10) \n",
    "gridRF.fit(XMultiClass_train_tfidf_sinProcesado, yMultiClass_train)\n",
    "\n",
    "print(\"best mean cross-validation score: {:.3f}\".format(gridRF.best_score_))\n",
    "print(\"best parameters: {}\".format(gridRF.best_params_))\n",
    "\n",
    "scores = np.array(gridRF.cv_results_['mean_test_score'])\n",
    "plt.plot(maxDepthRF,scores,'-o')\n",
    "plt.xlabel('max_depth')\n",
    "plt.ylabel('10-fold ACC')\n",
    "\n",
    "plt.show()"
   ]
  },
  {
   "cell_type": "code",
   "execution_count": 274,
   "metadata": {},
   "outputs": [
    {
     "name": "stdout",
     "output_type": "stream",
     "text": [
      "Train:  0.9600555555555556\n",
      "Test:  0.6246666666666667\n"
     ]
    }
   ],
   "source": [
    "maxDepthOptimoRF = gridRF.best_params_['max_depth']\n",
    "bagModelRF = RandomForestClassifier(max_depth=maxDepthOptimoRF,n_estimators=200,max_features='sqrt').fit(XMultiClass_train_tfidf_sinProcesado, yMultiClass_train)\n",
    "\n",
    "print(\"Train: \",bagModelRF.score(XMultiClass_train_tfidf_sinProcesado, yMultiClass_train))\n",
    "print(\"Test: \",bagModelRF.score(XMultiClass_test_tfidf_sinProcesado, yMultiClass_test))\n",
    "\n",
    "test_predictRF = bagModelRF.predict(XMultiClass_test_tfidf_sinProcesado)"
   ]
  },
  {
   "cell_type": "markdown",
   "metadata": {},
   "source": [
    "#### Resultado"
   ]
  },
  {
   "cell_type": "code",
   "execution_count": 275,
   "metadata": {},
   "outputs": [
    {
     "name": "stdout",
     "output_type": "stream",
     "text": [
      "Random Forest sin preprocesado\n",
      "\n",
      "--------------------------------------------------\n",
      "Confussion matrix:\n",
      "[[1226  293  461]\n",
      " [ 212 1470  329]\n",
      " [ 526  431 1052]]\n",
      "\n",
      "Classification report:\n",
      "              precision    recall  f1-score   support\n",
      "\n",
      "           0       0.62      0.62      0.62      1980\n",
      "           1       0.67      0.73      0.70      2011\n",
      "           2       0.57      0.52      0.55      2009\n",
      "\n",
      "    accuracy                           0.62      6000\n",
      "   macro avg       0.62      0.62      0.62      6000\n",
      "weighted avg       0.62      0.62      0.62      6000\n",
      "\n",
      "Accuracy score:0.6246666666666667\n"
     ]
    }
   ],
   "source": [
    "print('Random Forest sin preprocesado\\n')\n",
    "print('-' * 50)\n",
    "print('Confussion matrix:\\n{}'.format(confusion_matrix(yMultiClass_test, test_predictRF)))\n",
    "print('\\nClassification report:\\n{}'.format(classification_report(yMultiClass_test, test_predictRF)))\n",
    "print('Accuracy score:{}'.format(accuracy_score(yMultiClass_test, test_predictRF)))"
   ]
  },
  {
   "cell_type": "markdown",
   "metadata": {},
   "source": [
    "### 4.2 Con preprocesado."
   ]
  },
  {
   "cell_type": "markdown",
   "metadata": {},
   "source": [
    "#### 4.2.1 Procesado"
   ]
  },
  {
   "cell_type": "markdown",
   "metadata": {},
   "source": [
    "Aplicamos el mismo preprocesado que hemos realizado para clasificación binaria"
   ]
  },
  {
   "cell_type": "code",
   "execution_count": 154,
   "metadata": {},
   "outputs": [],
   "source": [
    "processed_texts = []\n",
    "separator = ', '\n",
    "for text in dfMultiClass['reviewText']:\n",
    "    processed_texts.append(separator.join(preprocess(text)))"
   ]
  },
  {
   "cell_type": "markdown",
   "metadata": {},
   "source": [
    "Añadimos las reviews procesadas a nuestro dataframe"
   ]
  },
  {
   "cell_type": "code",
   "execution_count": 155,
   "metadata": {
    "scrolled": true
   },
   "outputs": [
    {
     "data": {
      "text/html": [
       "<div>\n",
       "<style scoped>\n",
       "    .dataframe tbody tr th:only-of-type {\n",
       "        vertical-align: middle;\n",
       "    }\n",
       "\n",
       "    .dataframe tbody tr th {\n",
       "        vertical-align: top;\n",
       "    }\n",
       "\n",
       "    .dataframe thead th {\n",
       "        text-align: right;\n",
       "    }\n",
       "</style>\n",
       "<table border=\"1\" class=\"dataframe\">\n",
       "  <thead>\n",
       "    <tr style=\"text-align: right;\">\n",
       "      <th></th>\n",
       "      <th>reviewText</th>\n",
       "      <th>sentiment_label</th>\n",
       "      <th>reviewProcessed</th>\n",
       "    </tr>\n",
       "  </thead>\n",
       "  <tbody>\n",
       "    <tr>\n",
       "      <td>0</td>\n",
       "      <td>I recently saw this at a local AC Moore store....</td>\n",
       "      <td>0</td>\n",
       "      <td>recently, local, moore, store, open, try, minu...</td>\n",
       "    </tr>\n",
       "    <tr>\n",
       "      <td>1</td>\n",
       "      <td>I bought two, one for upstairs and one for dow...</td>\n",
       "      <td>0</td>\n",
       "      <td>buy, upstairs, change, brand, litter, better, ...</td>\n",
       "    </tr>\n",
       "    <tr>\n",
       "      <td>2</td>\n",
       "      <td>Love the idea of the scoop and hide, but this ...</td>\n",
       "      <td>0</td>\n",
       "      <td>love, idea, scoop, hide, product, relatively, ...</td>\n",
       "    </tr>\n",
       "    <tr>\n",
       "      <td>3</td>\n",
       "      <td>After spending 15 minutes using Goo Gone Stick...</td>\n",
       "      <td>0</td>\n",
       "      <td>spend, minutes, go, sticker, lifter, remove, s...</td>\n",
       "    </tr>\n",
       "    <tr>\n",
       "      <td>4</td>\n",
       "      <td>I bought one of theseBooda Scoop'N Hide Litter...</td>\n",
       "      <td>0</td>\n",
       "      <td>buy, thesebooda, scoop, hide, litter, scoop, p...</td>\n",
       "    </tr>\n",
       "    <tr>\n",
       "      <td>...</td>\n",
       "      <td>...</td>\n",
       "      <td>...</td>\n",
       "      <td>...</td>\n",
       "    </tr>\n",
       "    <tr>\n",
       "      <td>23995</td>\n",
       "      <td>We live in Maryland which turns out to be tick...</td>\n",
       "      <td>1</td>\n",
       "      <td>live, maryland, turn, tick, heaven, stuff, wor...</td>\n",
       "    </tr>\n",
       "    <tr>\n",
       "      <td>23996</td>\n",
       "      <td>All of the other brands are a waste of time.  ...</td>\n",
       "      <td>1</td>\n",
       "      <td>brand, waste, time, merial, frontline, brand, ...</td>\n",
       "    </tr>\n",
       "    <tr>\n",
       "      <td>23997</td>\n",
       "      <td>It works great. The price was the best I found...</td>\n",
       "      <td>1</td>\n",
       "      <td>work, great, price, best, little, reaction, pr...</td>\n",
       "    </tr>\n",
       "    <tr>\n",
       "      <td>23998</td>\n",
       "      <td>Shipping was fast, got it within a week with F...</td>\n",
       "      <td>1</td>\n",
       "      <td>ship, fast, week, free, super, save, ship, say...</td>\n",
       "    </tr>\n",
       "    <tr>\n",
       "      <td>23999</td>\n",
       "      <td>This is a great little gadget to have around. ...</td>\n",
       "      <td>1</td>\n",
       "      <td>great, little, gadget, look, splinter, use, li...</td>\n",
       "    </tr>\n",
       "  </tbody>\n",
       "</table>\n",
       "<p>24000 rows × 3 columns</p>\n",
       "</div>"
      ],
      "text/plain": [
       "                                              reviewText  sentiment_label  \\\n",
       "0      I recently saw this at a local AC Moore store....                0   \n",
       "1      I bought two, one for upstairs and one for dow...                0   \n",
       "2      Love the idea of the scoop and hide, but this ...                0   \n",
       "3      After spending 15 minutes using Goo Gone Stick...                0   \n",
       "4      I bought one of theseBooda Scoop'N Hide Litter...                0   \n",
       "...                                                  ...              ...   \n",
       "23995  We live in Maryland which turns out to be tick...                1   \n",
       "23996  All of the other brands are a waste of time.  ...                1   \n",
       "23997  It works great. The price was the best I found...                1   \n",
       "23998  Shipping was fast, got it within a week with F...                1   \n",
       "23999  This is a great little gadget to have around. ...                1   \n",
       "\n",
       "                                         reviewProcessed  \n",
       "0      recently, local, moore, store, open, try, minu...  \n",
       "1      buy, upstairs, change, brand, litter, better, ...  \n",
       "2      love, idea, scoop, hide, product, relatively, ...  \n",
       "3      spend, minutes, go, sticker, lifter, remove, s...  \n",
       "4      buy, thesebooda, scoop, hide, litter, scoop, p...  \n",
       "...                                                  ...  \n",
       "23995  live, maryland, turn, tick, heaven, stuff, wor...  \n",
       "23996  brand, waste, time, merial, frontline, brand, ...  \n",
       "23997  work, great, price, best, little, reaction, pr...  \n",
       "23998  ship, fast, week, free, super, save, ship, say...  \n",
       "23999  great, little, gadget, look, splinter, use, li...  \n",
       "\n",
       "[24000 rows x 3 columns]"
      ]
     },
     "execution_count": 155,
     "metadata": {},
     "output_type": "execute_result"
    }
   ],
   "source": [
    "dfMultiClass['reviewProcessed'] = processed_texts\n",
    "dfMultiClass"
   ]
  },
  {
   "cell_type": "markdown",
   "metadata": {},
   "source": [
    "Eliminamos la columna reviewText"
   ]
  },
  {
   "cell_type": "code",
   "execution_count": 156,
   "metadata": {},
   "outputs": [
    {
     "data": {
      "text/html": [
       "<div>\n",
       "<style scoped>\n",
       "    .dataframe tbody tr th:only-of-type {\n",
       "        vertical-align: middle;\n",
       "    }\n",
       "\n",
       "    .dataframe tbody tr th {\n",
       "        vertical-align: top;\n",
       "    }\n",
       "\n",
       "    .dataframe thead th {\n",
       "        text-align: right;\n",
       "    }\n",
       "</style>\n",
       "<table border=\"1\" class=\"dataframe\">\n",
       "  <thead>\n",
       "    <tr style=\"text-align: right;\">\n",
       "      <th></th>\n",
       "      <th>sentiment_label</th>\n",
       "      <th>reviewProcessed</th>\n",
       "    </tr>\n",
       "  </thead>\n",
       "  <tbody>\n",
       "    <tr>\n",
       "      <td>0</td>\n",
       "      <td>0</td>\n",
       "      <td>recently, local, moore, store, open, try, minu...</td>\n",
       "    </tr>\n",
       "    <tr>\n",
       "      <td>1</td>\n",
       "      <td>0</td>\n",
       "      <td>buy, upstairs, change, brand, litter, better, ...</td>\n",
       "    </tr>\n",
       "    <tr>\n",
       "      <td>2</td>\n",
       "      <td>0</td>\n",
       "      <td>love, idea, scoop, hide, product, relatively, ...</td>\n",
       "    </tr>\n",
       "    <tr>\n",
       "      <td>3</td>\n",
       "      <td>0</td>\n",
       "      <td>spend, minutes, go, sticker, lifter, remove, s...</td>\n",
       "    </tr>\n",
       "    <tr>\n",
       "      <td>4</td>\n",
       "      <td>0</td>\n",
       "      <td>buy, thesebooda, scoop, hide, litter, scoop, p...</td>\n",
       "    </tr>\n",
       "    <tr>\n",
       "      <td>...</td>\n",
       "      <td>...</td>\n",
       "      <td>...</td>\n",
       "    </tr>\n",
       "    <tr>\n",
       "      <td>23995</td>\n",
       "      <td>1</td>\n",
       "      <td>live, maryland, turn, tick, heaven, stuff, wor...</td>\n",
       "    </tr>\n",
       "    <tr>\n",
       "      <td>23996</td>\n",
       "      <td>1</td>\n",
       "      <td>brand, waste, time, merial, frontline, brand, ...</td>\n",
       "    </tr>\n",
       "    <tr>\n",
       "      <td>23997</td>\n",
       "      <td>1</td>\n",
       "      <td>work, great, price, best, little, reaction, pr...</td>\n",
       "    </tr>\n",
       "    <tr>\n",
       "      <td>23998</td>\n",
       "      <td>1</td>\n",
       "      <td>ship, fast, week, free, super, save, ship, say...</td>\n",
       "    </tr>\n",
       "    <tr>\n",
       "      <td>23999</td>\n",
       "      <td>1</td>\n",
       "      <td>great, little, gadget, look, splinter, use, li...</td>\n",
       "    </tr>\n",
       "  </tbody>\n",
       "</table>\n",
       "<p>24000 rows × 2 columns</p>\n",
       "</div>"
      ],
      "text/plain": [
       "       sentiment_label                                    reviewProcessed\n",
       "0                    0  recently, local, moore, store, open, try, minu...\n",
       "1                    0  buy, upstairs, change, brand, litter, better, ...\n",
       "2                    0  love, idea, scoop, hide, product, relatively, ...\n",
       "3                    0  spend, minutes, go, sticker, lifter, remove, s...\n",
       "4                    0  buy, thesebooda, scoop, hide, litter, scoop, p...\n",
       "...                ...                                                ...\n",
       "23995                1  live, maryland, turn, tick, heaven, stuff, wor...\n",
       "23996                1  brand, waste, time, merial, frontline, brand, ...\n",
       "23997                1  work, great, price, best, little, reaction, pr...\n",
       "23998                1  ship, fast, week, free, super, save, ship, say...\n",
       "23999                1  great, little, gadget, look, splinter, use, li...\n",
       "\n",
       "[24000 rows x 2 columns]"
      ]
     },
     "execution_count": 156,
     "metadata": {},
     "output_type": "execute_result"
    }
   ],
   "source": [
    "del(dfMultiClass['reviewText'])\n",
    "dfMultiClass"
   ]
  },
  {
   "cell_type": "markdown",
   "metadata": {},
   "source": [
    "#### 3.2.2 Separamos en train y test"
   ]
  },
  {
   "cell_type": "code",
   "execution_count": 157,
   "metadata": {},
   "outputs": [],
   "source": [
    "X_trainMultiClassProcessed, X_testMultiClassProcessed, y_trainMultiClassProcessed, y_testMultiClassProcessed = trainTestSplit(dfMultiClass, True)"
   ]
  },
  {
   "cell_type": "code",
   "execution_count": 158,
   "metadata": {},
   "outputs": [
    {
     "data": {
      "text/plain": [
       "<matplotlib.axes._subplots.AxesSubplot at 0x28caa9fa308>"
      ]
     },
     "execution_count": 158,
     "metadata": {},
     "output_type": "execute_result"
    },
    {
     "data": {
      "image/png": "[encoded data removed]",
      "text/plain": [
       "<Figure size 432x288 with 1 Axes>"
      ]
     },
     "metadata": {
      "needs_background": "light"
     },
     "output_type": "display_data"
    }
   ],
   "source": [
    "sns.countplot(x= y_trainMultiClassProcessed)"
   ]
  },
  {
   "cell_type": "markdown",
   "metadata": {},
   "source": [
    "Como se puede comprobar, nuestro conjunto de train esta bien balanceado, por consiguiente, test también lo estará."
   ]
  },
  {
   "cell_type": "markdown",
   "metadata": {},
   "source": [
    "#### 4.2.3 TfidfVectorizer para Clasificación Multiple y Preprocesado"
   ]
  },
  {
   "cell_type": "code",
   "execution_count": 160,
   "metadata": {},
   "outputs": [
    {
     "data": {
      "text/plain": [
       "TfidfVectorizer(analyzer='word', binary=False, decode_error='strict',\n",
       "                dtype=<class 'numpy.float64'>, encoding='utf-8',\n",
       "                input='content', lowercase=True, max_df=0.95, max_features=5000,\n",
       "                min_df=5, ngram_range=(1, 3), norm='l2', preprocessor=None,\n",
       "                smooth_idf=True, stop_words=None, strip_accents=None,\n",
       "                sublinear_tf=False, token_pattern='(?u)\\\\b\\\\w\\\\w+\\\\b',\n",
       "                tokenizer=None, use_idf=True, vocabulary=None)"
      ]
     },
     "execution_count": 160,
     "metadata": {},
     "output_type": "execute_result"
    }
   ],
   "source": [
    "cvMultiClass = TfidfVectorizer(\n",
    "    max_df=0.95,\n",
    "    min_df=5,\n",
    "    max_features=5000,\n",
    "    ngram_range=(1, 3)\n",
    ")\n",
    "cvMultiClass.fit(X_trainMultiClassProcessed)"
   ]
  },
  {
   "cell_type": "code",
   "execution_count": 161,
   "metadata": {},
   "outputs": [],
   "source": [
    "X_train_tfidf_MultiClassProcessed = cvMultiClass.transform(X_trainMultiClassProcessed)\n",
    "X_test_tfidf_MultiClassProcessed = cvMultiClass.transform(X_testMultiClassProcessed)"
   ]
  },
  {
   "cell_type": "markdown",
   "metadata": {},
   "source": [
    "#### 4.2.4 Entrenamos nuestro modelo para Clasificación Multiple y Preprocesado"
   ]
  },
  {
   "cell_type": "markdown",
   "metadata": {},
   "source": [
    "#### Arbol de decisión"
   ]
  },
  {
   "cell_type": "markdown",
   "metadata": {},
   "source": [
    "Optimizamos los parámetros con gridsearch"
   ]
  },
  {
   "cell_type": "code",
   "execution_count": 276,
   "metadata": {},
   "outputs": [
    {
     "name": "stdout",
     "output_type": "stream",
     "text": [
      "best mean cross-validation score: 0.476\n",
      "best parameters: {'max_depth': 26}\n"
     ]
    },
    {
     "data": {
      "image/png": "[encoded data removed]",
      "text/plain": [
       "<Figure size 432x288 with 1 Axes>"
      ]
     },
     "metadata": {
      "needs_background": "light"
     },
     "output_type": "display_data"
    }
   ],
   "source": [
    "maxDepthDTProcessed = range(1,30)\n",
    "param_gridDTProcessed = {'max_depth': maxDepthDTProcessed }\n",
    "gridDTProcessed= GridSearchCV(DecisionTreeClassifier(random_state=0), param_grid=param_gridDTProcessed, cv = 10)\n",
    "gridDTProcessed.fit(X_train_tfidf_MultiClassProcessed, y_trainMultiClassProcessed)\n",
    "print(\"best mean cross-validation score: {:.3f}\".format(gridDTProcessed.best_score_))\n",
    "print(\"best parameters: {}\".format(gridDTProcessed.best_params_))\n",
    "\n",
    "scores = np.array(gridDTProcessed.cv_results_['mean_test_score'])\n",
    "plt.plot(maxDepthDTProcessed,scores,'-o')\n",
    "plt.xlabel('max_depth',fontsize=16)\n",
    "plt.ylabel('10-Fold MSE')\n",
    "#plt.ylim((-1, 0))\n",
    "plt.show()"
   ]
  },
  {
   "cell_type": "code",
   "execution_count": 277,
   "metadata": {},
   "outputs": [
    {
     "name": "stdout",
     "output_type": "stream",
     "text": [
      "Train:  0.6715\n",
      "Test:  0.4805\n"
     ]
    }
   ],
   "source": [
    "maxDepthOptimoDTProcessed = gridDTProcessed.best_params_['max_depth']\n",
    "treeModelDTProcessed = DecisionTreeClassifier(max_depth=maxDepthOptimoDTProcessed).fit(X_train_tfidf_MultiClassProcessed, y_trainMultiClassProcessed)\n",
    "\n",
    "print(\"Train: \",treeModelDTProcessed.score(X_train_tfidf_MultiClassProcessed, y_trainMultiClassProcessed))\n",
    "print(\"Test: \",treeModelDTProcessed.score(X_test_tfidf_MultiClassProcessed, y_testMultiClassProcessed))\n",
    "\n"
   ]
  },
  {
   "cell_type": "markdown",
   "metadata": {},
   "source": [
    "Predecimmos para test"
   ]
  },
  {
   "cell_type": "code",
   "execution_count": 278,
   "metadata": {},
   "outputs": [],
   "source": [
    "test_predictDTProcessed = treeModelDTProcessed.predict(X_test_tfidf_MultiClassProcessed)"
   ]
  },
  {
   "cell_type": "markdown",
   "metadata": {},
   "source": [
    "#### Resultado"
   ]
  },
  {
   "cell_type": "code",
   "execution_count": 279,
   "metadata": {},
   "outputs": [
    {
     "name": "stdout",
     "output_type": "stream",
     "text": [
      "Arbol de decisiones sin preprocesado\n",
      "\n",
      "--------------------------------------------------\n",
      "Confussion matrix:\n",
      "[[ 624  314 1042]\n",
      " [ 200 1088  723]\n",
      " [ 352  486 1171]]\n",
      "\n",
      "Classification report:\n",
      "              precision    recall  f1-score   support\n",
      "\n",
      "           0       0.53      0.32      0.40      1980\n",
      "           1       0.58      0.54      0.56      2011\n",
      "           2       0.40      0.58      0.47      2009\n",
      "\n",
      "    accuracy                           0.48      6000\n",
      "   macro avg       0.50      0.48      0.48      6000\n",
      "weighted avg       0.50      0.48      0.48      6000\n",
      "\n",
      "Accuracy score:0.4805\n"
     ]
    }
   ],
   "source": [
    "print('Arbol de decisiones con preprocesado\\n')\n",
    "print('-' * 50)\n",
    "print('Confussion matrix:\\n{}'.format(confusion_matrix(yMultiClass_test, test_predictDTProcessed)))\n",
    "print('\\nClassification report:\\n{}'.format(classification_report(yMultiClass_test, test_predictDTProcessed)))\n",
    "print('Accuracy score:{}'.format(accuracy_score(yMultiClass_test, test_predictDTProcessed)))"
   ]
  },
  {
   "cell_type": "markdown",
   "metadata": {},
   "source": [
    "#### Baggin y Random Forest"
   ]
  },
  {
   "cell_type": "markdown",
   "metadata": {},
   "source": [
    "Optimizamos los parametros con gridSearch"
   ]
  },
  {
   "cell_type": "code",
   "execution_count": 280,
   "metadata": {},
   "outputs": [
    {
     "name": "stdout",
     "output_type": "stream",
     "text": [
      "best mean cross-validation score: 0.594\n",
      "best parameters: {'max_depth': 39}\n"
     ]
    },
    {
     "data": {
      "image/png": "[encoded data removed]",
      "text/plain": [
       "<Figure size 432x288 with 1 Axes>"
      ]
     },
     "metadata": {
      "needs_background": "light"
     },
     "output_type": "display_data"
    }
   ],
   "source": [
    "# grid search\n",
    "maxDepthRFProcessed = range(10,40)\n",
    "tuned_parametersRFProcessed = {'max_depth': maxDepthRFProcessed}\n",
    "\n",
    "gridRFProcessed = GridSearchCV(RandomForestClassifier(random_state=0, n_estimators=200, max_features='sqrt'), param_grid=tuned_parametersRFProcessed,cv=10) \n",
    "gridRFProcessed.fit(X_train_tfidf_MultiClassProcessed, y_trainMultiClassProcessed)\n",
    "\n",
    "print(\"best mean cross-validation score: {:.3f}\".format(gridRFProcessed.best_score_))\n",
    "print(\"best parameters: {}\".format(gridRFProcessed.best_params_))\n",
    "\n",
    "scores = np.array(gridRFProcessed.cv_results_['mean_test_score'])\n",
    "plt.plot(maxDepthRFProcessed,scores,'-o')\n",
    "plt.xlabel('max_depth')\n",
    "plt.ylabel('10-fold ACC')\n",
    "\n",
    "plt.show()"
   ]
  },
  {
   "cell_type": "code",
   "execution_count": 283,
   "metadata": {},
   "outputs": [
    {
     "name": "stdout",
     "output_type": "stream",
     "text": [
      "Train:  0.9235\n",
      "Test:  0.5976666666666667\n"
     ]
    }
   ],
   "source": [
    "maxDepthOptimoRFProcessed = gridRFProcessed.best_params_['max_depth']\n",
    "bagModelRFProcessed = RandomForestClassifier(max_depth=maxDepthOptimoRFProcessed,n_estimators=200,max_features='sqrt').fit(X_train_tfidf_MultiClassProcessed, yMultiClass_train)\n",
    "\n",
    "print(\"Train: \",bagModelRFProcessed.score(X_train_tfidf_MultiClassProcessed, y_trainMultiClassProcessed))\n",
    "print(\"Test: \",bagModelRFProcessed.score(X_test_tfidf_MultiClassProcessed, y_testMultiClassProcessed))"
   ]
  },
  {
   "cell_type": "code",
   "execution_count": 284,
   "metadata": {},
   "outputs": [],
   "source": [
    "test_predictRFProcessed = bagModelRFProcessed.predict(X_test_tfidf_MultiClassProcessed)"
   ]
  },
  {
   "cell_type": "markdown",
   "metadata": {},
   "source": [
    "#### Resultado"
   ]
  },
  {
   "cell_type": "code",
   "execution_count": 285,
   "metadata": {},
   "outputs": [
    {
     "name": "stdout",
     "output_type": "stream",
     "text": [
      "Random Forest con preprocesado\n",
      "\n",
      "--------------------------------------------------\n",
      "Confussion matrix:\n",
      "[[1163  240  577]\n",
      " [ 189 1423  399]\n",
      " [ 542  467 1000]]\n",
      "\n",
      "Classification report:\n",
      "              precision    recall  f1-score   support\n",
      "\n",
      "           0       0.61      0.59      0.60      1980\n",
      "           1       0.67      0.71      0.69      2011\n",
      "           2       0.51      0.50      0.50      2009\n",
      "\n",
      "    accuracy                           0.60      6000\n",
      "   macro avg       0.60      0.60      0.60      6000\n",
      "weighted avg       0.60      0.60      0.60      6000\n",
      "\n",
      "Accuracy score:0.5976666666666667\n"
     ]
    }
   ],
   "source": [
    "print('Random Forest con preprocesado\\n')\n",
    "print('-' * 50)\n",
    "print('Confussion matrix:\\n{}'.format(confusion_matrix(yMultiClass_test, test_predictRFProcessed)))\n",
    "print('\\nClassification report:\\n{}'.format(classification_report(yMultiClass_test, test_predictRFProcessed)))\n",
    "print('Accuracy score:{}'.format(accuracy_score(yMultiClass_test, test_predictRFProcessed)))"
   ]
  },
  {
   "cell_type": "markdown",
   "metadata": {},
   "source": [
    "## 5. Conclusiones"
   ]
  },
  {
   "cell_type": "markdown",
   "metadata": {},
   "source": [
    "Recordemos, que en este notebook nuestro objetivo era predecir si una review era positiva, negativa o neutral.\n",
    "\n",
    "Para poder evaluar el resultado final, vamos a ver el resultado obtenido para cada uno y así poder compararlos."
   ]
  },
  {
   "cell_type": "code",
   "execution_count": 291,
   "metadata": {},
   "outputs": [
    {
     "name": "stdout",
     "output_type": "stream",
     "text": [
      "CLASIFICACIÓN BINARIA\n",
      "----------------------------------------------------------------------------------------------------\n",
      "\n",
      "TfIdfVectorizer sin preprocesado\n",
      "\n",
      "Confussion matrix:\n",
      "[[2617  373]\n",
      " [ 409 2601]]\n",
      "\n",
      "Classification report:\n",
      "              precision    recall  f1-score   support\n",
      "\n",
      "           0       0.86      0.88      0.87      2990\n",
      "           1       0.87      0.86      0.87      3010\n",
      "\n",
      "    accuracy                           0.87      6000\n",
      "   macro avg       0.87      0.87      0.87      6000\n",
      "weighted avg       0.87      0.87      0.87      6000\n",
      "\n",
      "Accuracy score:0.8696666666666667\n",
      "\n",
      "TfIdfVectorizer con preprocesado\n",
      "\n",
      "Confussion matrix:\n",
      "[[2510  480]\n",
      " [ 462 2548]]\n",
      "\n",
      "Classification report:\n",
      "              precision    recall  f1-score   support\n",
      "\n",
      "           0       0.84      0.84      0.84      2990\n",
      "           1       0.84      0.85      0.84      3010\n",
      "\n",
      "    accuracy                           0.84      6000\n",
      "   macro avg       0.84      0.84      0.84      6000\n",
      "weighted avg       0.84      0.84      0.84      6000\n",
      "\n",
      "Accuracy score:0.843\n"
     ]
    }
   ],
   "source": [
    "\n",
    "\n",
    "print('CLASIFICACIÓN BINARIA')\n",
    "print('-' * 100)\n",
    "\n",
    "print('\\nTfIdfVectorizer sin preprocesado\\n')\n",
    "print('Confussion matrix:\\n{}'.format(confusion_matrix(y_test, y_pred_tfidf_sinProcesado)))\n",
    "print('\\nClassification report:\\n{}'.format(classification_report(y_test, y_pred_tfidf_sinProcesado)))\n",
    "print('Accuracy score:{}'.format(accuracy_score(y_test, y_pred_tfidf_sinProcesado)))\n",
    "\n",
    "print('\\nTfIdfVectorizer con preprocesado\\n')\n",
    "print('Confussion matrix:\\n{}'.format(confusion_matrix(y_testProcessed, test_predict_Processed)))\n",
    "print('\\nClassification report:\\n{}'.format(classification_report(y_testProcessed, test_predict_Processed)))\n",
    "print('Accuracy score:{}'.format(accuracy_score(y_testProcessed, test_predict_Processed)))\n",
    "\n"
   ]
  },
  {
   "cell_type": "markdown",
   "metadata": {},
   "source": [
    "Para la clasificación binaria, es curioso que, aunque realizemos preprocesado o no, el resultado obtenido no varía demasiado, pero funciona mejor sin preprocesado.\n",
    "Quizás deberíamos buscar un entremedio, es decir, procesar el texto pero no demasiado y volver a evaluarlo."
   ]
  },
  {
   "cell_type": "code",
   "execution_count": 293,
   "metadata": {},
   "outputs": [
    {
     "name": "stdout",
     "output_type": "stream",
     "text": [
      "CLASIFICACIÓN MULTIPLE\n",
      "----------------------------------------------------------------------------------------------------\n",
      "\n",
      "SIN PREPROCESADO DE TEXTO\n",
      "\n",
      "\n",
      "Árbol de decisiones sin preprocesado\n",
      "\n",
      "--------------------------------------------------\n",
      "Confussion matrix:\n",
      "[[ 747  477  756]\n",
      " [ 276 1111  624]\n",
      " [ 432  497 1080]]\n",
      "\n",
      "Classification report:\n",
      "              precision    recall  f1-score   support\n",
      "\n",
      "           0       0.51      0.38      0.43      1980\n",
      "           1       0.53      0.55      0.54      2011\n",
      "           2       0.44      0.54      0.48      2009\n",
      "\n",
      "    accuracy                           0.49      6000\n",
      "   macro avg       0.50      0.49      0.49      6000\n",
      "weighted avg       0.50      0.49      0.49      6000\n",
      "\n",
      "Accuracy score:0.48966666666666664\n",
      "\n",
      "Random Forest sin preprocesado\n",
      "\n",
      "--------------------------------------------------\n",
      "Confussion matrix:\n",
      "[[1226  293  461]\n",
      " [ 212 1470  329]\n",
      " [ 526  431 1052]]\n",
      "\n",
      "Classification report:\n",
      "              precision    recall  f1-score   support\n",
      "\n",
      "           0       0.62      0.62      0.62      1980\n",
      "           1       0.67      0.73      0.70      2011\n",
      "           2       0.57      0.52      0.55      2009\n",
      "\n",
      "    accuracy                           0.62      6000\n",
      "   macro avg       0.62      0.62      0.62      6000\n",
      "weighted avg       0.62      0.62      0.62      6000\n",
      "\n",
      "Accuracy score:0.6246666666666667\n",
      "\n",
      "CON PREPROCESADO DE TEXTO\n",
      "\n",
      "\n",
      "Árbol de decisiones con preprocesado\n",
      "\n",
      "--------------------------------------------------\n",
      "Confussion matrix:\n",
      "[[ 624  314 1042]\n",
      " [ 200 1088  723]\n",
      " [ 352  486 1171]]\n",
      "\n",
      "Classification report:\n",
      "              precision    recall  f1-score   support\n",
      "\n",
      "           0       0.53      0.32      0.40      1980\n",
      "           1       0.58      0.54      0.56      2011\n",
      "           2       0.40      0.58      0.47      2009\n",
      "\n",
      "    accuracy                           0.48      6000\n",
      "   macro avg       0.50      0.48      0.48      6000\n",
      "weighted avg       0.50      0.48      0.48      6000\n",
      "\n",
      "Accuracy score:0.4805\n",
      "\n",
      "Random Forest con preprocesado\n",
      "\n",
      "--------------------------------------------------\n",
      "Confussion matrix:\n",
      "[[1163  240  577]\n",
      " [ 189 1423  399]\n",
      " [ 542  467 1000]]\n",
      "\n",
      "Classification report:\n",
      "              precision    recall  f1-score   support\n",
      "\n",
      "           0       0.61      0.59      0.60      1980\n",
      "           1       0.67      0.71      0.69      2011\n",
      "           2       0.51      0.50      0.50      2009\n",
      "\n",
      "    accuracy                           0.60      6000\n",
      "   macro avg       0.60      0.60      0.60      6000\n",
      "weighted avg       0.60      0.60      0.60      6000\n",
      "\n",
      "Accuracy score:0.5976666666666667\n"
     ]
    }
   ],
   "source": [
    "print('CLASIFICACIÓN MULTIPLE')\n",
    "print('-' * 100)\n",
    "\n",
    "print('\\nSIN PREPROCESADO DE TEXTO\\n')\n",
    "\n",
    "print('\\nÁrbol de decisiones sin preprocesado\\n')\n",
    "print('-' * 50)\n",
    "print('Confussion matrix:\\n{}'.format(confusion_matrix(yMultiClass_test, test_predictDT)))\n",
    "print('\\nClassification report:\\n{}'.format(classification_report(yMultiClass_test, test_predictDT)))\n",
    "print('Accuracy score:{}'.format(accuracy_score(yMultiClass_test, test_predictDT)))\n",
    "\n",
    "print('\\nRandom Forest sin preprocesado\\n')\n",
    "print('-' * 50)\n",
    "print('Confussion matrix:\\n{}'.format(confusion_matrix(yMultiClass_test, test_predictRF)))\n",
    "print('\\nClassification report:\\n{}'.format(classification_report(yMultiClass_test, test_predictRF)))\n",
    "print('Accuracy score:{}'.format(accuracy_score(yMultiClass_test, test_predictRF)))\n",
    "\n",
    "print('\\nCON PREPROCESADO DE TEXTO\\n')\n",
    "\n",
    "print('\\nÁrbol de decisiones con preprocesado\\n')\n",
    "print('-' * 50)\n",
    "print('Confussion matrix:\\n{}'.format(confusion_matrix(yMultiClass_test, test_predictDTProcessed)))\n",
    "print('\\nClassification report:\\n{}'.format(classification_report(yMultiClass_test, test_predictDTProcessed)))\n",
    "print('Accuracy score:{}'.format(accuracy_score(yMultiClass_test, test_predictDTProcessed)))\n",
    "\n",
    "print('\\nRandom Forest con preprocesado\\n')\n",
    "print('-' * 50)\n",
    "print('Confussion matrix:\\n{}'.format(confusion_matrix(yMultiClass_test, test_predictRFProcessed)))\n",
    "print('\\nClassification report:\\n{}'.format(classification_report(yMultiClass_test, test_predictRFProcessed)))\n",
    "print('Accuracy score:{}'.format(accuracy_score(yMultiClass_test, test_predictRFProcessed)))"
   ]
  },
  {
   "cell_type": "markdown",
   "metadata": {},
   "source": [
    "Para clasificación múltiple, tenemos que en los dos casos, preprocesado de texto y texto en crudo, el modelo que nos ha funcionado mejor ha sido random forest. Probablemente podrímos haber subido el accuracy optimizando los parámetros, ya que si nos fijamos en las gráficas, max_deepth en la mayoría de ellas, seguía creciendo.\n",
    "\n",
    "Aunque lo que me llama la atención aquí es que, en el modelo de random forest, la clasificación de los reviews positivos es mucho mayor a los demás. Teniendo en cuenta que nuestras muestras estaban bien balanceadas, entiendo que podría ser por que, los adjetivos para expresar disgustos o enfados, són mucho más extensos que para expresar satisfacción y alegría. \n",
    "\n",
    "Parece que cuando estamos contentos con poner que lo estamos, la necesidad queda satisfecha con un par de frases. Por contra, cuando se trata de expresar un sentimiento negativo, parece que necesitamos 10 líneas y aún así no queda satisfecho\n",
    "\n"
   ]
  },
  {
   "cell_type": "markdown",
   "metadata": {},
   "source": [
    "Para terminar, está claro que nos ha funcionado mucho mejor la clasificación binaria sin preprocedo.\n",
    "\n",
    "Esto se debe, a que al querer clasificar las opiniones neutrales, puede complicarlo bastante, ya que algunas pueden hacer uso de lenguajes positivos o negativos y eso puede suponer ruido para nuestro modelo.\n",
    "\n",
    "Supongo que si hubiésemos hecho un clasificador múltiple para clasificar la intensidad, por ejemplo:\n",
    "\n",
    "- 5 estrellas muy positivo\n",
    "- 4 estrellas positivo\n",
    "- 3 estrellas neutral\n",
    "- 2 estrellas negativo\n",
    "- 1 estrella muy negativo\n",
    "\n",
    "Deberíamos entrenar a nuestro modelo usando bigramas o trigramas, y probablemente, clasificaría mejor entre neutrales y positivos y negativos, o eso creo"
   ]
  }
 ],
 "metadata": {
  "kernelspec": {
   "display_name": "Python 3",
   "language": "python",
   "name": "python3"
  },
  "language_info": {
   "codemirror_mode": {
    "name": "ipython",
    "version": 3
   },
   "file_extension": ".py",
   "mimetype": "text/x-python",
   "name": "python",
   "nbconvert_exporter": "python",
   "pygments_lexer": "ipython3",
   "version": "3.7.4"
  }
 },
 "nbformat": 4,
 "nbformat_minor": 2
}
